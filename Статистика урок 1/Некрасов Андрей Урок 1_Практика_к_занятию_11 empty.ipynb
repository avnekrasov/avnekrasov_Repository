{
 "cells": [
  {
   "cell_type": "markdown",
   "metadata": {
    "id": "pDrecLU-4QjS"
   },
   "source": [
    "# Практика"
   ]
  },
  {
   "cell_type": "markdown",
   "metadata": {
    "id": "gUvTNDlMaV-a"
   },
   "source": [
    "## Определение вероятности. События\n",
    "\n",
    "Требуется сгенерировать необходимые выборки и произвести по ним расчеты"
   ]
  },
  {
   "cell_type": "code",
   "execution_count": 1,
   "metadata": {},
   "outputs": [],
   "source": [
    "import pandas as pd\n",
    "import numpy as np\n",
    "import matplotlib.pyplot as plt\n",
    "import random\n",
    "import scipy.stats as sts\n",
    "%matplotlib inline\n",
    "from itertools import product\n",
    "from itertools import permutations\n",
    "import warnings\n",
    "warnings.filterwarnings('ignore')"
   ]
  },
  {
   "cell_type": "markdown",
   "metadata": {
    "id": "5V70InEBTgup"
   },
   "source": [
    "### Задача 1\n",
    "Брошено две монеты. Найти вероятность того, что монеты выпали разными сторонами"
   ]
  },
  {
   "cell_type": "code",
   "execution_count": 2,
   "metadata": {},
   "outputs": [
    {
     "name": "stdout",
     "output_type": "stream",
     "text": [
      "[1 2 0 ... 0 2 0]\n"
     ]
    }
   ],
   "source": [
    "A = np.random.randint(0, 4, 100000) # 0-PP, 1=OP, 2-PO, 3-OO\n",
    "print(A)"
   ]
  },
  {
   "cell_type": "code",
   "execution_count": 3,
   "metadata": {},
   "outputs": [
    {
     "name": "stdout",
     "output_type": "stream",
     "text": [
      "Вероятность, что монеты выпали разными сторонами = 0.50093\n"
     ]
    }
   ],
   "source": [
    "P=0\n",
    "for i in A:\n",
    "    if i == 1:\n",
    "        P += 1 \n",
    "    elif i == 2:\n",
    "        P += 1 \n",
    "print(f'Вероятность, что монеты выпали разными сторонами = {P/len(A)}')"
   ]
  },
  {
   "cell_type": "markdown",
   "metadata": {
    "id": "t0XOMos2Tl0e"
   },
   "source": [
    "### Задача 2\n",
    "Брошено три монеты. Описать множество всех элементарных событий. Найти вероятности следующих событий:\n",
    "\n",
    "\n",
    "1.   A = {не выпало ни одного герба}\n",
    "2.   B = {выпало четное число гербов}\n",
    "3.   C = {на третьей монете выпал герб}\n"
   ]
  },
  {
   "cell_type": "code",
   "execution_count": 4,
   "metadata": {},
   "outputs": [
    {
     "name": "stdout",
     "output_type": "stream",
     "text": [
      "[('O', 'O', 'O'), ('O', 'O', 'P'), ('O', 'P', 'O'), ('O', 'P', 'P'), ('P', 'O', 'O'), ('P', 'O', 'P'), ('P', 'P', 'O'), ('P', 'P', 'P')]\n"
     ]
    }
   ],
   "source": [
    "coin1 = ['O','P']\n",
    "coin2 = ['O','P']\n",
    "coin3 = ['O','P']\n",
    "\n",
    "variants = list(product(coin1, coin2, coin3))\n",
    "print(variants)"
   ]
  },
  {
   "cell_type": "code",
   "execution_count": 5,
   "metadata": {
    "id": "o7NjAE9uUo-L"
   },
   "outputs": [],
   "source": [
    "M = np.random.choice(range(0,8), 100000) # 0-ООО, 1-ООР, 2-ОРО, 3-ОРР, 4-РОО, 5-РОР, 6-РРО, 7-РРР"
   ]
  },
  {
   "cell_type": "code",
   "execution_count": 6,
   "metadata": {},
   "outputs": [
    {
     "name": "stdout",
     "output_type": "stream",
     "text": [
      "Вероятность, что не выпало ни одного герба = 0.12473\n",
      "Вероятность, что выпало четное число гербов = 0.37618\n",
      "Вероятность, что на третьей монете выпал герб = 0.50084\n"
     ]
    }
   ],
   "source": [
    "A=0\n",
    "B=0\n",
    "C=0\n",
    "for i in M:\n",
    "    if i == 7:     \n",
    "        A += 1\n",
    "for i in M:\n",
    "    if i == 1:     \n",
    "        B += 1\n",
    "    elif i == 2:     \n",
    "        B+= 1\n",
    "    elif i == 4:     \n",
    "        B += 1 \n",
    "for i in M:        \n",
    "    if i == 0:     \n",
    "        C += 1  \n",
    "    elif i == 6:     \n",
    "        C += 1         \n",
    "    elif i == 2:     \n",
    "        C += 1\n",
    "    elif i == 4:     \n",
    "        C += 1 \n",
    "\n",
    "    \n",
    "print(f'Вероятность, что не выпало ни одного герба = {A/len(M)}')\n",
    "print(f'Вероятность, что выпало четное число гербов = {B/len(M)}')\n",
    "print(f'Вероятность, что на третьей монете выпал герб = {C/len(M)}')"
   ]
  },
  {
   "cell_type": "markdown",
   "metadata": {},
   "source": [
    "Предлагается также решить задачи: \n",
    "\n",
    "### Задача 3\n",
    "Из двух претендентов E и L на ответственную должность три члена комиссии должны отобрать одного. Каждый член комиссии должен указать либо одного достойного, либо забраковать обоих. Претендент считается выбранным, если он был признана достойным хотя бы двумя членами комиссии.\n",
    "Найти вероятность событий:\n",
    "\n",
    "A = {рекомендован L}, B = {рекомендован E}\n"
   ]
  },
  {
   "cell_type": "markdown",
   "metadata": {},
   "source": [
    "1 оценивающий - E,L,0\n",
    "2 оценивающий - E,L,0\n",
    "3 оценивающий - E,L,0\n",
    "Всего вариантов 3х3х3(27):\n",
    "A {рекомендован L} - LLL, LL0, LLE, L0L, LEL, 0LL, ELL\n",
    "В {рекомендован E} - EEE, EE0, EEL, E0E, ELE, 0EE, LEE"
   ]
  },
  {
   "cell_type": "code",
   "execution_count": 7,
   "metadata": {},
   "outputs": [
    {
     "name": "stdout",
     "output_type": "stream",
     "text": [
      "[('E', 'E', 'E'), ('E', 'E', 'L'), ('E', 'E', '0'), ('E', 'L', 'E'), ('E', 'L', 'L'), ('E', 'L', '0'), ('E', '0', 'E'), ('E', '0', 'L'), ('E', '0', '0'), ('L', 'E', 'E'), ('L', 'E', 'L'), ('L', 'E', '0'), ('L', 'L', 'E'), ('L', 'L', 'L'), ('L', 'L', '0'), ('L', '0', 'E'), ('L', '0', 'L'), ('L', '0', '0'), ('0', 'E', 'E'), ('0', 'E', 'L'), ('0', 'E', '0'), ('0', 'L', 'E'), ('0', 'L', 'L'), ('0', 'L', '0'), ('0', '0', 'E'), ('0', '0', 'L'), ('0', '0', '0')]\n"
     ]
    }
   ],
   "source": [
    "expert1 = ['E','L','0']\n",
    "expert2 = ['E','L','0']\n",
    "expert3 = ['E','L','0']\n",
    "\n",
    "variants = list(product(expert1, expert2, expert3))\n",
    "print(variants)"
   ]
  },
  {
   "cell_type": "code",
   "execution_count": 8,
   "metadata": {},
   "outputs": [],
   "source": [
    "evaluation = np.random.choice(range(0,27), 100000)"
   ]
  },
  {
   "cell_type": "code",
   "execution_count": 9,
   "metadata": {},
   "outputs": [
    {
     "name": "stdout",
     "output_type": "stream",
     "text": [
      "Вероятность, что рекомендован L = 0.22267\n",
      "Вероятность, что рекомендован E = 0.22277\n"
     ]
    }
   ],
   "source": [
    "AA=0\n",
    "BB=0\n",
    "\n",
    "for i in evaluation:\n",
    "    if i == 0 or i == 1 or i == 2 or i == 3 or i == 4 or i == 5:     \n",
    "        AA += 1\n",
    "for i in evaluation:\n",
    "    if i == 6 or i == 7 or i == 8 or i == 9 or i == 10 or i == 11:      \n",
    "        BB += 1\n",
    "\n",
    "print(f'Вероятность, что рекомендован L = {AA/len(evaluation)}')\n",
    "print(f'Вероятность, что рекомендован E = {BB/len(evaluation)}') "
   ]
  },
  {
   "cell_type": "code",
   "execution_count": null,
   "metadata": {},
   "outputs": [],
   "source": []
  },
  {
   "cell_type": "markdown",
   "metadata": {
    "id": "peM38mVfYa5B"
   },
   "source": [
    "### Задача 4\n",
    "Брошено две игральных кости. Описать множество элементарных событий. Найти вероятности событий:\n",
    "\n",
    "A = {вышло две \"шестерки\"}\n",
    "\n",
    "B = {сумма выпавших очков не меньше 11}\n",
    "\n",
    "C = {не выпала ни одна \"шестерка\"}"
   ]
  },
  {
   "cell_type": "code",
   "execution_count": 10,
   "metadata": {},
   "outputs": [
    {
     "name": "stdout",
     "output_type": "stream",
     "text": [
      "[(1, 1), (1, 2), (1, 3), (1, 4), (1, 5), (1, 6), (2, 1), (2, 2), (2, 3), (2, 4), (2, 5), (2, 6), (3, 1), (3, 2), (3, 3), (3, 4), (3, 5), (3, 6), (4, 1), (4, 2), (4, 3), (4, 4), (4, 5), (4, 6), (5, 1), (5, 2), (5, 3), (5, 4), (5, 5), (5, 6), (6, 1), (6, 2), (6, 3), (6, 4), (6, 5), (6, 6)]\n",
      "36\n"
     ]
    }
   ],
   "source": [
    "dice1 = [1,2,3,4,5,6]\n",
    "dice2 = [1,2,3,4,5,6]\n",
    "\n",
    "outcome = list(product(dice1, dice2))\n",
    "print(outcome)\n",
    "print(len(outcome))"
   ]
  },
  {
   "cell_type": "code",
   "execution_count": 86,
   "metadata": {},
   "outputs": [],
   "source": [
    "n = 100000\n",
    "dice1_rn = np.random.choice(range(1,7), n)\n",
    "dice2_rn = np.random.choice(range(1,7), n)\n",
    "sum2dicies = dice1_rn + dice2_rn"
   ]
  },
  {
   "cell_type": "code",
   "execution_count": 87,
   "metadata": {},
   "outputs": [
    {
     "name": "stdout",
     "output_type": "stream",
     "text": [
      "Вероятность, что вышло две \"шестерки\" = 0.02842\n",
      "Вероятность, что сумма выпавших очков не меньше 11 = 0.91636\n"
     ]
    }
   ],
   "source": [
    "A = 0 #{вышло две \"шестерки\"}\n",
    "B = 0 #{сумма выпавших очков не меньше 11}\n",
    "\n",
    "for i in sum2dicies:\n",
    "    if i  == 12:\n",
    "      A += 1\n",
    "    elif i < 11:\n",
    "      B += 1\n",
    "print(f'Вероятность, что вышло две \"шестерки\" = {A/n}')\n",
    "print(f'Вероятность, что сумма выпавших очков не меньше 11 = {B/n}') "
   ]
  },
  {
   "cell_type": "code",
   "execution_count": 88,
   "metadata": {},
   "outputs": [],
   "source": [
    "dice1_df = pd.DataFrame(dice1_rn, columns = ['Dice 1'])\n",
    "dice2_df = pd.DataFrame(dice2_rn, columns = ['Dice 2'])\n",
    "dice12_df = dice1_df.join(dice2_df)\n",
    "#dice12_df"
   ]
  },
  {
   "cell_type": "code",
   "execution_count": 89,
   "metadata": {},
   "outputs": [
    {
     "name": "stdout",
     "output_type": "stream",
     "text": [
      "Вероятность, что не выпала ни одна \"шестерка\" = 0.8332\n"
     ]
    }
   ],
   "source": [
    "C = pd.DataFrame({\"C\":list(map(lambda a: random.choice([\n",
    "                           random.choice(dice1_rn),\n",
    "                           random.choice(dice2_rn)\n",
    "                           ]), range(n)\n",
    "                              ))\n",
    "                 })\n",
    "# считаем статистику выпадений черных шаров\n",
    "C = len(dice12_df[dice12_df['Dice 1'] != 6])/C.shape[0]\n",
    "print(f'Вероятность, что не выпала ни одна \"шестерка\" = {C}')"
   ]
  },
  {
   "cell_type": "code",
   "execution_count": 91,
   "metadata": {},
   "outputs": [
    {
     "name": "stdout",
     "output_type": "stream",
     "text": [
      "Вероятность, что не выпала ни одна \"шестерка\" = 0.694080596\n"
     ]
    }
   ],
   "source": [
    "# C  {не выпала ни одна \"шестерка\"}\n",
    "C = len(dice12_df[dice12_df['Dice 1'] != 6])/n * len(dice12_df[dice12_df['Dice 2'] != 6])/n\n",
    "print(f'Вероятность, что не выпала ни одна \"шестерка\" = {C}')"
   ]
  },
  {
   "cell_type": "markdown",
   "metadata": {
    "id": "f-Bi0p8haclB"
   },
   "source": [
    "## Вероятность суммы событий"
   ]
  },
  {
   "cell_type": "markdown",
   "metadata": {
    "id": "g7A7QlvGTnwZ"
   },
   "source": [
    "### Задача 5\n",
    "Брошены две игральные кости. Найти вероятность события D = {выпала хотя бы одна шестёрка}\n"
   ]
  },
  {
   "cell_type": "code",
   "execution_count": 80,
   "metadata": {
    "id": "vjtTJN-kUp9D"
   },
   "outputs": [
    {
     "name": "stdout",
     "output_type": "stream",
     "text": [
      "Вероятность, что выпала хотя бы одна шестёрка = 0.30397697160000003\n"
     ]
    }
   ],
   "source": [
    "P_dice1 = 0\n",
    "P_dice2 = 0\n",
    "\n",
    "for i in dice1_rn:\n",
    "    if i == 6:     \n",
    "        P_dice1 += 1\n",
    "for i in dice2_rn:\n",
    "    if i == 6:     \n",
    "        P_dice2 += 1\n",
    "\n",
    "print(f'Вероятность, что выпала хотя бы одна шестёрка = {P_dice1/n + P_dice2/n - P_dice1/n * P_dice2/n}')"
   ]
  },
  {
   "cell_type": "markdown",
   "metadata": {
    "id": "R1bYSzQQbC6I"
   },
   "source": [
    "Предлагается также решить задачи: \n",
    "\n",
    "### Задача 6\n",
    "В телефонном номере три последние цифры стерлись. Считая, что все возможные значения стершихся цифр равновероятны, найти вероятность событий:\n",
    "\n",
    "A = {Стерлись различные цифры},\n",
    "\n",
    "B = {Стерлись одинаковые цифры},\n",
    "\n",
    "C = {Среди стершихся цифр хотя бы две совпадают},\n",
    "\n",
    "D = {Среди стершихся цифр хотя бы две различны}\n"
   ]
  },
  {
   "cell_type": "code",
   "execution_count": 118,
   "metadata": {},
   "outputs": [],
   "source": [
    "n = 100000\n",
    "digit1 = np.random.choice(range(0,10), n)\n",
    "digit2 = np.random.choice(range(0,10), n)\n",
    "digit3 = np.random.choice(range(0,10), n)"
   ]
  },
  {
   "cell_type": "code",
   "execution_count": 123,
   "metadata": {},
   "outputs": [
    {
     "name": "stdout",
     "output_type": "stream",
     "text": [
      "Вероятность, что Стерлись различные цифры = 0.7235058495521539\n"
     ]
    }
   ],
   "source": [
    "#Стерлись различные цифры\n",
    "P_digit1 = 0\n",
    "P_digit2 = 0\n",
    "P_digit3 = 0\n",
    "\n",
    "for i in digit1:\n",
    "    if i != 0:     \n",
    "        P_digit1 += 1\n",
    "for i in digit2:\n",
    "    if i != 0 & i != 1:     \n",
    "        P_digit2 += 1\n",
    "for i in digit3:\n",
    "    if i != 0 & i != 1 & i != 2 :     \n",
    "        P_digit3 += 1\n",
    "A = P_digit1/n * P_digit2/n * P_digit2/n\n",
    "\n",
    "print(f'Вероятность, что Стерлись различные цифры = {A}')"
   ]
  },
  {
   "cell_type": "code",
   "execution_count": 126,
   "metadata": {},
   "outputs": [
    {
     "name": "stdout",
     "output_type": "stream",
     "text": [
      "Вероятность, что Стерлись одинаковые цифры = 0.001069551747846\n"
     ]
    }
   ],
   "source": [
    "#Стерлись одинаковые цифры\n",
    "P_digit1 = 0\n",
    "P_digit2 = 0\n",
    "P_digit3 = 0\n",
    "\n",
    "for i in digit1:\n",
    "    if i == 0:     \n",
    "        P_digit1 += 1\n",
    "for i in digit2:\n",
    "    if i == 0:     \n",
    "        P_digit2 += 1\n",
    "for i in digit3:\n",
    "    if i == 0:     \n",
    "        P_digit3 += 1\n",
    "B = P_digit1/n * P_digit2/n * P_digit2/n\n",
    "\n",
    "print(f'Вероятность, что Стерлись одинаковые цифры = {B}')"
   ]
  },
  {
   "cell_type": "code",
   "execution_count": 127,
   "metadata": {},
   "outputs": [
    {
     "name": "stdout",
     "output_type": "stream",
     "text": [
      "Вероятность, что Среди стершихся цифр хотя бы две совпадают = 0.2764941504478461\n"
     ]
    }
   ],
   "source": [
    "#Среди стершихся цифр хотя бы две совпадают\n",
    "#C = {Среди стершихся цифр хотя бы две совпадают} = НЕ Стерлись различные цифры\n",
    "print(f'Вероятность, что Среди стершихся цифр хотя бы две совпадают = {1-A}')"
   ]
  },
  {
   "cell_type": "code",
   "execution_count": 128,
   "metadata": {},
   "outputs": [
    {
     "name": "stdout",
     "output_type": "stream",
     "text": [
      "Вероятность, что Среди стершихся цифр хотя бы две различны = 0.998930448252154\n"
     ]
    }
   ],
   "source": [
    "# Среди стершихся цифр хотя бы две различны = НЕ Стерлись одинаковые цифры\n",
    "#D = {Среди стершихся цифр хотя бы две различны}\n",
    "print(f'Вероятность, что Среди стершихся цифр хотя бы две различны = {1-B}')"
   ]
  },
  {
   "cell_type": "markdown",
   "metadata": {
    "id": "RnugkR8BalK_"
   },
   "source": [
    "### Случайные величины"
   ]
  },
  {
   "cell_type": "markdown",
   "metadata": {
    "id": "yLoZDZ17UVsp"
   },
   "source": [
    "### Задача 7\n",
    "В лотерее имеется 10 билетов, из которых один выигрышный. Размер выигрыша 10 ден. ед.; стоимость билета 1 ден ед. Найти закон распределения случайной величины X, равной чистому выигрышу участника лотереи, который вытаскивает билет первым."
   ]
  },
  {
   "cell_type": "code",
   "execution_count": 135,
   "metadata": {
    "id": "oNk432sKUqzT"
   },
   "outputs": [
    {
     "data": {
      "text/plain": [
       "<AxesSubplot:ylabel='Frequency'>"
      ]
     },
     "execution_count": 135,
     "metadata": {},
     "output_type": "execute_result"
    },
    {
     "data": {
      "image/png": "[encoded data removed]",
      "text/plain": [
       "<Figure size 432x288 with 1 Axes>"
      ]
     },
     "metadata": {
      "needs_background": "light"
     },
     "output_type": "display_data"
    }
   ],
   "source": [
    "# заполняем урну B1\n",
    "lotery = [9]*1 + [-1]*9\n",
    "\n",
    "\n",
    "\n",
    "n = 100000 # задаем число экспериментов\n",
    "prize = 10 # выигрыш \n",
    "сost = 1 #цена билета\n",
    "# формируем выборку\n",
    "A = pd.DataFrame({\"A\":list(map(lambda a: random.choice([\n",
    "                           random.choice(lotery)\n",
    "                           ]), range(n)\n",
    "                              ))\n",
    "                 })\n",
    "\n",
    "# Распределение Бернулли\n",
    "A.plot(kind='hist' )"
   ]
  },
  {
   "cell_type": "markdown",
   "metadata": {
    "id": "U-NK9liSbpvb"
   },
   "source": [
    "Предлагается также решить задачу: \n",
    "\n",
    "### Задача 8\n",
    "Брошены две игральные кости. Найти закон распределения случайной величины $X$, равной сумме выпавших очков. Найти вероятности событий ${X <= 4}$, ${X > 4}$"
   ]
  },
  {
   "cell_type": "code",
   "execution_count": 145,
   "metadata": {},
   "outputs": [
    {
     "data": {
      "text/plain": [
       "<AxesSubplot:ylabel='Frequency'>"
      ]
     },
     "execution_count": 145,
     "metadata": {},
     "output_type": "execute_result"
    },
    {
     "data": {
      "image/png": "[encoded data removed]",
      "text/plain": [
       "<Figure size 432x288 with 1 Axes>"
      ]
     },
     "metadata": {
      "needs_background": "light"
     },
     "output_type": "display_data"
    }
   ],
   "source": [
    "n = 100000\n",
    "dice1_rn = np.random.choice(range(1,7), n)\n",
    "dice2_rn = np.random.choice(range(1,7), n)\n",
    "sum2dicies = dice1_rn + dice2_rn\n",
    "sum2dicies_df = pd.DataFrame(sum2dicies)\n",
    "sum2dicies_df.plot(kind='hist' )"
   ]
  },
  {
   "cell_type": "code",
   "execution_count": 146,
   "metadata": {},
   "outputs": [
    {
     "name": "stdout",
     "output_type": "stream",
     "text": [
      "Вероятность, что выпавших очков меньше или равна 4 = 0.16979\n",
      "Вероятность, что сумма выпавших очков больше 4 = 0.83021\n"
     ]
    }
   ],
   "source": [
    "A = 0\n",
    "B = 0\n",
    "for i in sum2dicies:\n",
    "    if i  <= 4:\n",
    "      A += 1\n",
    "    elif i > 4:\n",
    "      B += 1\n",
    "print(f'Вероятность, что выпавших очков меньше или равна 4 = {A/n}')\n",
    "print(f'Вероятность, что сумма выпавших очков больше 4 = {B/n}') "
   ]
  },
  {
   "cell_type": "markdown",
   "metadata": {
    "id": "shgW4D83awjK"
   },
   "source": [
    "## Условные вероятности"
   ]
  },
  {
   "cell_type": "markdown",
   "metadata": {
    "id": "Fbu1RFZwWZrk"
   },
   "source": [
    "### Задача 9\n",
    "Из колоды (36 карт) вынимают последовательно без возвращения две карты. Найти вероятность того, что первой картой была шестерка, а второй — семерка. Найти условную вероятность того же события при условии, что обе карты бубновой масти.\n"
   ]
  },
  {
   "cell_type": "code",
   "execution_count": null,
   "metadata": {
    "id": "037o56awW9-E"
   },
   "outputs": [],
   "source": []
  },
  {
   "cell_type": "markdown",
   "metadata": {
    "id": "hNVxtaz5c57b"
   },
   "source": [
    "Предлагается также решить задачу: \n",
    "\n",
    "### Задача 10\n",
    "Из урны, содержащей два белых и три черных шара, последовательно извлекают два шара; вынутые шары не возвращаются. Если первый шар оказался черным, то перед вторым извлечением в урну добавляют белый шар. В противном случае состав оставшихся шаров не меняют. Найти вероятности событий:\n",
    "\n",
    "$A$ = {извлечены два белых шара},\n",
    "\n",
    "$B$ = {извлечены два черных шара}\n",
    "\n",
    "Указание. Пусть событие $C_1$ = {первый шар белый}, событие $C_2$ = {второй шар белый}. Тогда $A = C_1C_2$, $B = \\overline C_1 \\overline C_2$ "
   ]
  },
  {
   "cell_type": "code",
   "execution_count": null,
   "metadata": {
    "id": "WSLnhk2sdBt_"
   },
   "outputs": [],
   "source": []
  }
 ],
 "metadata": {
  "colab": {
   "collapsed_sections": [],
   "name": "Практика к занятию 11.ipynb",
   "provenance": []
  },
  "kernelspec": {
   "display_name": "Python 3 (ipykernel)",
   "language": "python",
   "name": "python3"
  },
  "language_info": {
   "codemirror_mode": {
    "name": "ipython",
    "version": 3
   },
   "file_extension": ".py",
   "mimetype": "text/x-python",
   "name": "python",
   "nbconvert_exporter": "python",
   "pygments_lexer": "ipython3",
   "version": "3.9.12"
  }
 },
 "nbformat": 4,
 "nbformat_minor": 1
}
