{
 "cells": [
  {
   "cell_type": "code",
   "execution_count": 1,
   "id": "589bc6cb",
   "metadata": {},
   "outputs": [
    {
     "name": "stdout",
     "output_type": "stream",
     "text": [
      "Collecting pymorphy2\n",
      "  Downloading pymorphy2-0.9.1-py3-none-any.whl (55 kB)\n",
      "\u001b[2K     \u001b[90m━━━━━━━━━━━━━━━━━━━━━━━━━━━━━━━━━━━━━━━\u001b[0m \u001b[32m55.5/55.5 kB\u001b[0m \u001b[31m921.7 kB/s\u001b[0m eta \u001b[36m0:00:00\u001b[0ma \u001b[36m0:00:01\u001b[0m\n",
      "\u001b[?25hCollecting docopt>=0.6\n",
      "  Downloading docopt-0.6.2.tar.gz (25 kB)\n",
      "  Preparing metadata (setup.py) ... \u001b[?25ldone\n",
      "\u001b[?25hCollecting dawg-python>=0.7.1\n",
      "  Downloading DAWG_Python-0.7.2-py2.py3-none-any.whl (11 kB)\n",
      "Collecting pymorphy2-dicts-ru<3.0,>=2.4\n",
      "  Downloading pymorphy2_dicts_ru-2.4.417127.4579844-py2.py3-none-any.whl (8.2 MB)\n",
      "\u001b[2K     \u001b[90m━━━━━━━━━━━━━━━━━━━━━━━━━━━━━━━━━━━━━━━━\u001b[0m \u001b[32m8.2/8.2 MB\u001b[0m \u001b[31m2.4 MB/s\u001b[0m eta \u001b[36m0:00:00\u001b[0m00:01\u001b[0m00:01\u001b[0m\n",
      "\u001b[?25hBuilding wheels for collected packages: docopt\n",
      "  Building wheel for docopt (setup.py) ... \u001b[?25ldone\n",
      "\u001b[?25h  Created wheel for docopt: filename=docopt-0.6.2-py2.py3-none-any.whl size=13705 sha256=b6c823af93c76ffd75bd4cbac4e3da2598248aa24408ed76dd9e79a90618e7f5\n",
      "  Stored in directory: /Users/avnekrasov/Library/Caches/pip/wheels/7c/d7/8d/2156234738063e3d4a39ba77dc677046100e62766b53807189\n",
      "Successfully built docopt\n",
      "Installing collected packages: pymorphy2-dicts-ru, docopt, dawg-python, pymorphy2\n",
      "Successfully installed dawg-python-0.7.2 docopt-0.6.2 pymorphy2-0.9.1 pymorphy2-dicts-ru-2.4.417127.4579844\n"
     ]
    }
   ],
   "source": [
    "!pip install pymorphy2"
   ]
  },
  {
   "cell_type": "code",
   "execution_count": 2,
   "id": "a5aedb74",
   "metadata": {},
   "outputs": [
    {
     "name": "stdout",
     "output_type": "stream",
     "text": [
      "Collecting pymorphy2-dicts\n",
      "  Downloading pymorphy2_dicts-2.4.393442.3710985-py2.py3-none-any.whl (7.1 MB)\n",
      "\u001b[2K     \u001b[90m━━━━━━━━━━━━━━━━━━━━━━━━━━━━━━━━━━━━━━━━\u001b[0m \u001b[32m7.1/7.1 MB\u001b[0m \u001b[31m1.7 MB/s\u001b[0m eta \u001b[36m0:00:00\u001b[0m00:01\u001b[0m00:01\u001b[0m\n",
      "\u001b[?25hInstalling collected packages: pymorphy2-dicts\n",
      "Successfully installed pymorphy2-dicts-2.4.393442.3710985\n"
     ]
    }
   ],
   "source": [
    "!pip install pymorphy2-dicts"
   ]
  },
  {
   "cell_type": "code",
   "execution_count": 3,
   "id": "3ddfdf23",
   "metadata": {},
   "outputs": [
    {
     "name": "stdout",
     "output_type": "stream",
     "text": [
      "Requirement already satisfied: DAWG-Python in /Users/avnekrasov/anaconda3/lib/python3.10/site-packages (0.7.2)\r\n"
     ]
    }
   ],
   "source": [
    "!pip install DAWG-Python"
   ]
  },
  {
   "cell_type": "code",
   "execution_count": 4,
   "id": "fdd80f76",
   "metadata": {},
   "outputs": [],
   "source": [
    "import pandas as pd\n",
    "import re\n",
    "import pymorphy2\n",
    "import joblib as pickle"
   ]
  },
  {
   "cell_type": "code",
   "execution_count": 5,
   "id": "4f5933e1",
   "metadata": {},
   "outputs": [],
   "source": [
    "from sklearn.model_selection import train_test_split\n",
    "from sklearn.preprocessing import LabelEncoder\n",
    "from sklearn.metrics import f1_score\n",
    "from nltk.corpus import stopwords\n",
    "from sklearn.feature_extraction.text import TfidfVectorizer\n",
    "import nltk\n",
    "from sklearn import tree"
   ]
  },
  {
   "cell_type": "code",
   "execution_count": 80,
   "id": "d56cc49d",
   "metadata": {},
   "outputs": [
    {
     "name": "stderr",
     "output_type": "stream",
     "text": [
      "/var/folders/sr/vm0b7w256vv3544jh36np78w0000gn/T/ipykernel_14934/3394781730.py:1: DtypeWarning: Columns (3) have mixed types. Specify dtype option on import or set low_memory=False.\n",
      "  df = pd.read_csv('lenta-ru-news.csv')\n"
     ]
    }
   ],
   "source": [
    "df = pd.read_csv('lenta-ru-news.csv')"
   ]
  },
  {
   "cell_type": "code",
   "execution_count": 81,
   "id": "b4432006",
   "metadata": {},
   "outputs": [
    {
     "data": {
      "text/html": [
       "<div>\n",
       "<style scoped>\n",
       "    .dataframe tbody tr th:only-of-type {\n",
       "        vertical-align: middle;\n",
       "    }\n",
       "\n",
       "    .dataframe tbody tr th {\n",
       "        vertical-align: top;\n",
       "    }\n",
       "\n",
       "    .dataframe thead th {\n",
       "        text-align: right;\n",
       "    }\n",
       "</style>\n",
       "<table border=\"1\" class=\"dataframe\">\n",
       "  <thead>\n",
       "    <tr style=\"text-align: right;\">\n",
       "      <th></th>\n",
       "      <th>url</th>\n",
       "      <th>title</th>\n",
       "      <th>text</th>\n",
       "      <th>topic</th>\n",
       "      <th>tags</th>\n",
       "      <th>date</th>\n",
       "    </tr>\n",
       "  </thead>\n",
       "  <tbody>\n",
       "    <tr>\n",
       "      <th>0</th>\n",
       "      <td>https://lenta.ru/news/1914/09/16/hungarnn/</td>\n",
       "      <td>1914. Русские войска вступили в пределы Венгрии</td>\n",
       "      <td>Бои у Сопоцкина и Друскеник закончились отступ...</td>\n",
       "      <td>Библиотека</td>\n",
       "      <td>Первая мировая</td>\n",
       "      <td>1914/09/16</td>\n",
       "    </tr>\n",
       "    <tr>\n",
       "      <th>1</th>\n",
       "      <td>https://lenta.ru/news/1914/09/16/lermontov/</td>\n",
       "      <td>1914. Празднование столетия М.Ю. Лермонтова от...</td>\n",
       "      <td>Министерство народного просвещения, в виду про...</td>\n",
       "      <td>Библиотека</td>\n",
       "      <td>Первая мировая</td>\n",
       "      <td>1914/09/16</td>\n",
       "    </tr>\n",
       "    <tr>\n",
       "      <th>2</th>\n",
       "      <td>https://lenta.ru/news/1914/09/17/nesteroff/</td>\n",
       "      <td>1914. Das ist Nesteroff!</td>\n",
       "      <td>Штабс-капитан П. Н. Нестеров на днях, увидев в...</td>\n",
       "      <td>Библиотека</td>\n",
       "      <td>Первая мировая</td>\n",
       "      <td>1914/09/17</td>\n",
       "    </tr>\n",
       "    <tr>\n",
       "      <th>3</th>\n",
       "      <td>https://lenta.ru/news/1914/09/17/bulldogn/</td>\n",
       "      <td>1914. Бульдог-гонец под Льежем</td>\n",
       "      <td>Фотограф-корреспондент Daily Mirror рассказыва...</td>\n",
       "      <td>Библиотека</td>\n",
       "      <td>Первая мировая</td>\n",
       "      <td>1914/09/17</td>\n",
       "    </tr>\n",
       "    <tr>\n",
       "      <th>4</th>\n",
       "      <td>https://lenta.ru/news/1914/09/18/zver/</td>\n",
       "      <td>1914. Под Люблином пойман швабский зверь</td>\n",
       "      <td>Лица, приехавшие в Варшаву из Люблина, передаю...</td>\n",
       "      <td>Библиотека</td>\n",
       "      <td>Первая мировая</td>\n",
       "      <td>1914/09/18</td>\n",
       "    </tr>\n",
       "  </tbody>\n",
       "</table>\n",
       "</div>"
      ],
      "text/plain": [
       "                                           url  \\\n",
       "0   https://lenta.ru/news/1914/09/16/hungarnn/   \n",
       "1  https://lenta.ru/news/1914/09/16/lermontov/   \n",
       "2  https://lenta.ru/news/1914/09/17/nesteroff/   \n",
       "3   https://lenta.ru/news/1914/09/17/bulldogn/   \n",
       "4       https://lenta.ru/news/1914/09/18/zver/   \n",
       "\n",
       "                                               title  \\\n",
       "0  1914. Русские войска вступили в пределы Венгрии     \n",
       "1  1914. Празднование столетия М.Ю. Лермонтова от...   \n",
       "2                           1914. Das ist Nesteroff!   \n",
       "3                    1914. Бульдог-гонец под Льежем    \n",
       "4           1914. Под Люблином пойман швабский зверь   \n",
       "\n",
       "                                                text       topic  \\\n",
       "0  Бои у Сопоцкина и Друскеник закончились отступ...  Библиотека   \n",
       "1  Министерство народного просвещения, в виду про...  Библиотека   \n",
       "2  Штабс-капитан П. Н. Нестеров на днях, увидев в...  Библиотека   \n",
       "3  Фотограф-корреспондент Daily Mirror рассказыва...  Библиотека   \n",
       "4  Лица, приехавшие в Варшаву из Люблина, передаю...  Библиотека   \n",
       "\n",
       "             tags        date  \n",
       "0  Первая мировая  1914/09/16  \n",
       "1  Первая мировая  1914/09/16  \n",
       "2  Первая мировая  1914/09/17  \n",
       "3  Первая мировая  1914/09/17  \n",
       "4  Первая мировая  1914/09/18  "
      ]
     },
     "execution_count": 81,
     "metadata": {},
     "output_type": "execute_result"
    }
   ],
   "source": [
    "df.head()"
   ]
  },
  {
   "cell_type": "code",
   "execution_count": 82,
   "id": "d56a80ab",
   "metadata": {},
   "outputs": [
    {
     "data": {
      "text/plain": [
       "(800975, 6)"
      ]
     },
     "execution_count": 82,
     "metadata": {},
     "output_type": "execute_result"
    }
   ],
   "source": [
    "df.shape"
   ]
  },
  {
   "cell_type": "code",
   "execution_count": 83,
   "id": "9bde5e0e",
   "metadata": {},
   "outputs": [
    {
     "data": {
      "text/plain": [
       "Все               453762\n",
       "Политика           40716\n",
       "Общество           35202\n",
       "Украина            22523\n",
       "Происшествия       19825\n",
       "                   ...  \n",
       "Мировой опыт           6\n",
       "Нацпроекты             6\n",
       "Вооружение             3\n",
       "Инновации              1\n",
       "69-я параллель         1\n",
       "Name: tags, Length: 94, dtype: int64"
      ]
     },
     "execution_count": 83,
     "metadata": {},
     "output_type": "execute_result"
    }
   ],
   "source": [
    "df.tags.value_counts()"
   ]
  },
  {
   "cell_type": "code",
   "execution_count": 84,
   "id": "cb165224",
   "metadata": {},
   "outputs": [],
   "source": [
    "df = df_specific_type[df_specific_type.topic.isin(['Россия','Мир','Экономика','Спорт','Культура'])].copy()"
   ]
  },
  {
   "cell_type": "code",
   "execution_count": 85,
   "id": "c1b2237d",
   "metadata": {},
   "outputs": [
    {
     "data": {
      "text/plain": [
       "(494804, 6)"
      ]
     },
     "execution_count": 85,
     "metadata": {},
     "output_type": "execute_result"
    }
   ],
   "source": [
    "df.shape"
   ]
  },
  {
   "cell_type": "code",
   "execution_count": 86,
   "id": "2e784115",
   "metadata": {},
   "outputs": [
    {
     "data": {
      "text/plain": [
       "url          0\n",
       "title        0\n",
       "text         5\n",
       "topic        0\n",
       "tags     15328\n",
       "date         0\n",
       "dtype: int64"
      ]
     },
     "execution_count": 86,
     "metadata": {},
     "output_type": "execute_result"
    }
   ],
   "source": [
    "df.isna().sum()"
   ]
  },
  {
   "cell_type": "code",
   "execution_count": 87,
   "id": "a1bfc316",
   "metadata": {},
   "outputs": [
    {
     "data": {
      "text/plain": [
       "'Прокуратура не\\xa0нашла национальной почвы в\\xa0нападении на\\xa0индийского студента'"
      ]
     },
     "execution_count": 87,
     "metadata": {},
     "output_type": "execute_result"
    }
   ],
   "source": [
    "df[df.text.isna()]['title'].values[0]"
   ]
  },
  {
   "cell_type": "code",
   "execution_count": 88,
   "id": "bbd12c1e",
   "metadata": {},
   "outputs": [],
   "source": [
    "df.dropna(subset=['text'],inplace = True)"
   ]
  },
  {
   "cell_type": "code",
   "execution_count": 89,
   "id": "5ae6ef3b",
   "metadata": {},
   "outputs": [
    {
     "data": {
      "text/plain": [
       "Россия       160442\n",
       "Мир          136620\n",
       "Экономика     79528\n",
       "Спорт         64413\n",
       "Культура      53796\n",
       "Name: topic, dtype: int64"
      ]
     },
     "execution_count": 89,
     "metadata": {},
     "output_type": "execute_result"
    }
   ],
   "source": [
    "df.topic.value_counts()"
   ]
  },
  {
   "cell_type": "code",
   "execution_count": 90,
   "id": "e994ac29",
   "metadata": {},
   "outputs": [
    {
     "data": {
      "text/plain": [
       "Россия       0.324257\n",
       "Мир          0.276112\n",
       "Экономика    0.160728\n",
       "Спорт        0.130180\n",
       "Культура     0.108723\n",
       "Name: topic, dtype: float64"
      ]
     },
     "execution_count": 90,
     "metadata": {},
     "output_type": "execute_result"
    }
   ],
   "source": [
    "df.topic.value_counts(normalize=True)"
   ]
  },
  {
   "cell_type": "code",
   "execution_count": 91,
   "id": "542bdc17",
   "metadata": {},
   "outputs": [
    {
     "data": {
      "text/plain": [
       "url          0\n",
       "title        0\n",
       "text         0\n",
       "topic        0\n",
       "tags     15328\n",
       "date         0\n",
       "dtype: int64"
      ]
     },
     "execution_count": 91,
     "metadata": {},
     "output_type": "execute_result"
    }
   ],
   "source": [
    "df.isna().sum()"
   ]
  },
  {
   "cell_type": "code",
   "execution_count": 92,
   "id": "2fe87ec2",
   "metadata": {},
   "outputs": [
    {
     "data": {
      "text/plain": [
       "array([], dtype=object)"
      ]
     },
     "execution_count": 92,
     "metadata": {},
     "output_type": "execute_result"
    }
   ],
   "source": [
    "df[df.text.isna()]['title'].values"
   ]
  },
  {
   "cell_type": "code",
   "execution_count": 93,
   "id": "fb7fad7c",
   "metadata": {},
   "outputs": [],
   "source": [
    "df = df[~df.text.isna()]"
   ]
  },
  {
   "cell_type": "code",
   "execution_count": 94,
   "id": "e23d4798",
   "metadata": {},
   "outputs": [
    {
     "data": {
      "text/plain": [
       "(494799, 6)"
      ]
     },
     "execution_count": 94,
     "metadata": {},
     "output_type": "execute_result"
    }
   ],
   "source": [
    "df.shape"
   ]
  },
  {
   "cell_type": "code",
   "execution_count": 95,
   "id": "894ae9ee",
   "metadata": {},
   "outputs": [],
   "source": [
    "RANDOM_STATE = 42"
   ]
  },
  {
   "cell_type": "markdown",
   "id": "ac77ddd7",
   "metadata": {},
   "source": [
    "# Обработка текста"
   ]
  },
  {
   "cell_type": "code",
   "execution_count": 24,
   "id": "98cb04a9",
   "metadata": {},
   "outputs": [],
   "source": [
    "text_transformer = TfidfVectorizer()"
   ]
  },
  {
   "cell_type": "code",
   "execution_count": 25,
   "id": "e52071b2",
   "metadata": {},
   "outputs": [
    {
     "name": "stdout",
     "output_type": "stream",
     "text": [
      "CPU times: user 56.9 s, sys: 1.95 s, total: 58.9 s\n",
      "Wall time: 59.2 s\n"
     ]
    }
   ],
   "source": [
    "%%time\n",
    "text = text_transformer.fit_transform(df['text'])"
   ]
  },
  {
   "cell_type": "code",
   "execution_count": 26,
   "id": "0c677323",
   "metadata": {},
   "outputs": [
    {
     "data": {
      "text/plain": [
       "5         Как стало известно агентству Ассошиэйтед Пресс...\n",
       "6         В зале игровых автоматов в третьем ярусе подзе...\n",
       "7         Япония приняла решение разморозить кредиты Рос...\n",
       "8         Британцы отмечают сегодня скорбную дату - втор...\n",
       "9         В понедельник директор департамента внешних св...\n",
       "                                ...                        \n",
       "739168    Президент России Владимир Путин, выступая на з...\n",
       "739169    Президент России Владимир Путин организовал дл...\n",
       "739171    Протесты движения «желтых жилетов» в Париже сн...\n",
       "739174    Швейцарский горнолыжник Марк Гизин неудачно пр...\n",
       "739175    Президент России Владимир Путин рассказал, что...\n",
       "Name: text, Length: 494799, dtype: object"
      ]
     },
     "execution_count": 26,
     "metadata": {},
     "output_type": "execute_result"
    }
   ],
   "source": [
    "df['text']"
   ]
  },
  {
   "cell_type": "code",
   "execution_count": 27,
   "id": "50f33c64",
   "metadata": {},
   "outputs": [
    {
     "data": {
      "text/plain": [
       "(494799, 821732)"
      ]
     },
     "execution_count": 27,
     "metadata": {},
     "output_type": "execute_result"
    }
   ],
   "source": [
    "text.shape"
   ]
  },
  {
   "cell_type": "code",
   "execution_count": 28,
   "id": "c04a4740",
   "metadata": {},
   "outputs": [],
   "source": [
    "X_train, X_test, y_train, y_test = train_test_split(text, df['topic'], test_size=0.20, random_state=RANDOM_STATE)"
   ]
  },
  {
   "cell_type": "code",
   "execution_count": 29,
   "id": "f40c6fd9",
   "metadata": {},
   "outputs": [
    {
     "data": {
      "text/plain": [
       "(395839, 821732)"
      ]
     },
     "execution_count": 29,
     "metadata": {},
     "output_type": "execute_result"
    }
   ],
   "source": [
    "X_train.shape"
   ]
  },
  {
   "cell_type": "code",
   "execution_count": 30,
   "id": "c973483e",
   "metadata": {},
   "outputs": [
    {
     "data": {
      "text/plain": [
       "(98960, 821732)"
      ]
     },
     "execution_count": 30,
     "metadata": {},
     "output_type": "execute_result"
    }
   ],
   "source": [
    "X_test.shape"
   ]
  },
  {
   "cell_type": "code",
   "execution_count": 31,
   "id": "1c0b2efb",
   "metadata": {},
   "outputs": [
    {
     "name": "stdout",
     "output_type": "stream",
     "text": [
      "CPU times: user 47 µs, sys: 87 µs, total: 134 µs\n",
      "Wall time: 142 µs\n"
     ]
    }
   ],
   "source": [
    "%%time\n",
    "clf = tree.DecisionTreeClassifier()"
   ]
  },
  {
   "cell_type": "code",
   "execution_count": 32,
   "id": "b0d88bd4",
   "metadata": {},
   "outputs": [
    {
     "data": {
      "text/html": [
       "<style>#sk-container-id-1 {color: black;background-color: white;}#sk-container-id-1 pre{padding: 0;}#sk-container-id-1 div.sk-toggleable {background-color: white;}#sk-container-id-1 label.sk-toggleable__label {cursor: pointer;display: block;width: 100%;margin-bottom: 0;padding: 0.3em;box-sizing: border-box;text-align: center;}#sk-container-id-1 label.sk-toggleable__label-arrow:before {content: \"▸\";float: left;margin-right: 0.25em;color: #696969;}#sk-container-id-1 label.sk-toggleable__label-arrow:hover:before {color: black;}#sk-container-id-1 div.sk-estimator:hover label.sk-toggleable__label-arrow:before {color: black;}#sk-container-id-1 div.sk-toggleable__content {max-height: 0;max-width: 0;overflow: hidden;text-align: left;background-color: #f0f8ff;}#sk-container-id-1 div.sk-toggleable__content pre {margin: 0.2em;color: black;border-radius: 0.25em;background-color: #f0f8ff;}#sk-container-id-1 input.sk-toggleable__control:checked~div.sk-toggleable__content {max-height: 200px;max-width: 100%;overflow: auto;}#sk-container-id-1 input.sk-toggleable__control:checked~label.sk-toggleable__label-arrow:before {content: \"▾\";}#sk-container-id-1 div.sk-estimator input.sk-toggleable__control:checked~label.sk-toggleable__label {background-color: #d4ebff;}#sk-container-id-1 div.sk-label input.sk-toggleable__control:checked~label.sk-toggleable__label {background-color: #d4ebff;}#sk-container-id-1 input.sk-hidden--visually {border: 0;clip: rect(1px 1px 1px 1px);clip: rect(1px, 1px, 1px, 1px);height: 1px;margin: -1px;overflow: hidden;padding: 0;position: absolute;width: 1px;}#sk-container-id-1 div.sk-estimator {font-family: monospace;background-color: #f0f8ff;border: 1px dotted black;border-radius: 0.25em;box-sizing: border-box;margin-bottom: 0.5em;}#sk-container-id-1 div.sk-estimator:hover {background-color: #d4ebff;}#sk-container-id-1 div.sk-parallel-item::after {content: \"\";width: 100%;border-bottom: 1px solid gray;flex-grow: 1;}#sk-container-id-1 div.sk-label:hover label.sk-toggleable__label {background-color: #d4ebff;}#sk-container-id-1 div.sk-serial::before {content: \"\";position: absolute;border-left: 1px solid gray;box-sizing: border-box;top: 0;bottom: 0;left: 50%;z-index: 0;}#sk-container-id-1 div.sk-serial {display: flex;flex-direction: column;align-items: center;background-color: white;padding-right: 0.2em;padding-left: 0.2em;position: relative;}#sk-container-id-1 div.sk-item {position: relative;z-index: 1;}#sk-container-id-1 div.sk-parallel {display: flex;align-items: stretch;justify-content: center;background-color: white;position: relative;}#sk-container-id-1 div.sk-item::before, #sk-container-id-1 div.sk-parallel-item::before {content: \"\";position: absolute;border-left: 1px solid gray;box-sizing: border-box;top: 0;bottom: 0;left: 50%;z-index: -1;}#sk-container-id-1 div.sk-parallel-item {display: flex;flex-direction: column;z-index: 1;position: relative;background-color: white;}#sk-container-id-1 div.sk-parallel-item:first-child::after {align-self: flex-end;width: 50%;}#sk-container-id-1 div.sk-parallel-item:last-child::after {align-self: flex-start;width: 50%;}#sk-container-id-1 div.sk-parallel-item:only-child::after {width: 0;}#sk-container-id-1 div.sk-dashed-wrapped {border: 1px dashed gray;margin: 0 0.4em 0.5em 0.4em;box-sizing: border-box;padding-bottom: 0.4em;background-color: white;}#sk-container-id-1 div.sk-label label {font-family: monospace;font-weight: bold;display: inline-block;line-height: 1.2em;}#sk-container-id-1 div.sk-label-container {text-align: center;}#sk-container-id-1 div.sk-container {/* jupyter's `normalize.less` sets `[hidden] { display: none; }` but bootstrap.min.css set `[hidden] { display: none !important; }` so we also need the `!important` here to be able to override the default hidden behavior on the sphinx rendered scikit-learn.org. See: https://github.com/scikit-learn/scikit-learn/issues/21755 */display: inline-block !important;position: relative;}#sk-container-id-1 div.sk-text-repr-fallback {display: none;}</style><div id=\"sk-container-id-1\" class=\"sk-top-container\"><div class=\"sk-text-repr-fallback\"><pre>DecisionTreeClassifier()</pre><b>In a Jupyter environment, please rerun this cell to show the HTML representation or trust the notebook. <br />On GitHub, the HTML representation is unable to render, please try loading this page with nbviewer.org.</b></div><div class=\"sk-container\" hidden><div class=\"sk-item\"><div class=\"sk-estimator sk-toggleable\"><input class=\"sk-toggleable__control sk-hidden--visually\" id=\"sk-estimator-id-1\" type=\"checkbox\" checked><label for=\"sk-estimator-id-1\" class=\"sk-toggleable__label sk-toggleable__label-arrow\">DecisionTreeClassifier</label><div class=\"sk-toggleable__content\"><pre>DecisionTreeClassifier()</pre></div></div></div></div></div>"
      ],
      "text/plain": [
       "DecisionTreeClassifier()"
      ]
     },
     "execution_count": 32,
     "metadata": {},
     "output_type": "execute_result"
    }
   ],
   "source": [
    "clf.fit(X_train,y_train)"
   ]
  },
  {
   "cell_type": "code",
   "execution_count": 33,
   "id": "33fff893",
   "metadata": {},
   "outputs": [
    {
     "name": "stdout",
     "output_type": "stream",
     "text": [
      "Качество модели по метрике F1 0.791639515266716\n"
     ]
    }
   ],
   "source": [
    "pred = clf.predict(X_test)\n",
    "print('Качество модели по метрике F1', f1_score(y_test,pred,average='weighted')) "
   ]
  },
  {
   "cell_type": "markdown",
   "id": "56020148",
   "metadata": {},
   "source": [
    "# Изменим токенизатор"
   ]
  },
  {
   "cell_type": "code",
   "execution_count": 34,
   "id": "b081b07e",
   "metadata": {},
   "outputs": [
    {
     "name": "stdout",
     "output_type": "stream",
     "text": [
      "showing info https://raw.githubusercontent.com/nltk/nltk_data/gh-pages/index.xml\n"
     ]
    },
    {
     "data": {
      "text/plain": [
       "True"
      ]
     },
     "execution_count": 34,
     "metadata": {},
     "output_type": "execute_result"
    }
   ],
   "source": [
    "import nltk\n",
    "import ssl\n",
    "\n",
    "try:\n",
    "    _create_unverified_https_context = ssl._create_unverified_context\n",
    "except AttributeError:\n",
    "    pass\n",
    "else:\n",
    "    ssl._create_default_https_context = _create_unverified_https_context\n",
    "\n",
    "nltk.download()"
   ]
  },
  {
   "cell_type": "code",
   "execution_count": 36,
   "id": "0ff92974",
   "metadata": {},
   "outputs": [
    {
     "name": "stderr",
     "output_type": "stream",
     "text": [
      "[nltk_data] Downloading package stopwords to\n",
      "[nltk_data]     /Users/avnekrasov/nltk_data...\n",
      "[nltk_data]   Package stopwords is already up-to-date!\n"
     ]
    },
    {
     "data": {
      "text/plain": [
       "True"
      ]
     },
     "execution_count": 36,
     "metadata": {},
     "output_type": "execute_result"
    }
   ],
   "source": [
    "nltk.download('stopwords')"
   ]
  },
  {
   "cell_type": "code",
   "execution_count": 37,
   "id": "4d7d9ebf",
   "metadata": {},
   "outputs": [],
   "source": [
    "stop_russian = stopwords.words('russian')"
   ]
  },
  {
   "cell_type": "code",
   "execution_count": 39,
   "id": "ecdbc628",
   "metadata": {},
   "outputs": [],
   "source": [
    "text_transformer = TfidfVectorizer(stop_words=stop_russian, \n",
    "                                   ngram_range=(1,1), \n",
    "                                   lowercase=True, \n",
    "                                   max_features=10000 )\n",
    "text = text_transformer.fit_transform(df['text'])\n",
    "X_train, X_test, y_train, y_test = train_test_split(text, df['topic'], test_size=0.2, random_state=RANDOM_STATE)"
   ]
  },
  {
   "cell_type": "code",
   "execution_count": 40,
   "id": "44a2140b",
   "metadata": {},
   "outputs": [],
   "source": [
    "from sklearn.ensemble import GradientBoostingClassifier"
   ]
  },
  {
   "cell_type": "code",
   "execution_count": 43,
   "id": "b309afcc",
   "metadata": {},
   "outputs": [
    {
     "data": {
      "text/plain": [
       "(395839, 10000)"
      ]
     },
     "execution_count": 43,
     "metadata": {},
     "output_type": "execute_result"
    }
   ],
   "source": [
    "X_train.shape"
   ]
  },
  {
   "cell_type": "code",
   "execution_count": 44,
   "id": "9bb5fa05",
   "metadata": {},
   "outputs": [
    {
     "data": {
      "text/html": [
       "<style>#sk-container-id-2 {color: black;background-color: white;}#sk-container-id-2 pre{padding: 0;}#sk-container-id-2 div.sk-toggleable {background-color: white;}#sk-container-id-2 label.sk-toggleable__label {cursor: pointer;display: block;width: 100%;margin-bottom: 0;padding: 0.3em;box-sizing: border-box;text-align: center;}#sk-container-id-2 label.sk-toggleable__label-arrow:before {content: \"▸\";float: left;margin-right: 0.25em;color: #696969;}#sk-container-id-2 label.sk-toggleable__label-arrow:hover:before {color: black;}#sk-container-id-2 div.sk-estimator:hover label.sk-toggleable__label-arrow:before {color: black;}#sk-container-id-2 div.sk-toggleable__content {max-height: 0;max-width: 0;overflow: hidden;text-align: left;background-color: #f0f8ff;}#sk-container-id-2 div.sk-toggleable__content pre {margin: 0.2em;color: black;border-radius: 0.25em;background-color: #f0f8ff;}#sk-container-id-2 input.sk-toggleable__control:checked~div.sk-toggleable__content {max-height: 200px;max-width: 100%;overflow: auto;}#sk-container-id-2 input.sk-toggleable__control:checked~label.sk-toggleable__label-arrow:before {content: \"▾\";}#sk-container-id-2 div.sk-estimator input.sk-toggleable__control:checked~label.sk-toggleable__label {background-color: #d4ebff;}#sk-container-id-2 div.sk-label input.sk-toggleable__control:checked~label.sk-toggleable__label {background-color: #d4ebff;}#sk-container-id-2 input.sk-hidden--visually {border: 0;clip: rect(1px 1px 1px 1px);clip: rect(1px, 1px, 1px, 1px);height: 1px;margin: -1px;overflow: hidden;padding: 0;position: absolute;width: 1px;}#sk-container-id-2 div.sk-estimator {font-family: monospace;background-color: #f0f8ff;border: 1px dotted black;border-radius: 0.25em;box-sizing: border-box;margin-bottom: 0.5em;}#sk-container-id-2 div.sk-estimator:hover {background-color: #d4ebff;}#sk-container-id-2 div.sk-parallel-item::after {content: \"\";width: 100%;border-bottom: 1px solid gray;flex-grow: 1;}#sk-container-id-2 div.sk-label:hover label.sk-toggleable__label {background-color: #d4ebff;}#sk-container-id-2 div.sk-serial::before {content: \"\";position: absolute;border-left: 1px solid gray;box-sizing: border-box;top: 0;bottom: 0;left: 50%;z-index: 0;}#sk-container-id-2 div.sk-serial {display: flex;flex-direction: column;align-items: center;background-color: white;padding-right: 0.2em;padding-left: 0.2em;position: relative;}#sk-container-id-2 div.sk-item {position: relative;z-index: 1;}#sk-container-id-2 div.sk-parallel {display: flex;align-items: stretch;justify-content: center;background-color: white;position: relative;}#sk-container-id-2 div.sk-item::before, #sk-container-id-2 div.sk-parallel-item::before {content: \"\";position: absolute;border-left: 1px solid gray;box-sizing: border-box;top: 0;bottom: 0;left: 50%;z-index: -1;}#sk-container-id-2 div.sk-parallel-item {display: flex;flex-direction: column;z-index: 1;position: relative;background-color: white;}#sk-container-id-2 div.sk-parallel-item:first-child::after {align-self: flex-end;width: 50%;}#sk-container-id-2 div.sk-parallel-item:last-child::after {align-self: flex-start;width: 50%;}#sk-container-id-2 div.sk-parallel-item:only-child::after {width: 0;}#sk-container-id-2 div.sk-dashed-wrapped {border: 1px dashed gray;margin: 0 0.4em 0.5em 0.4em;box-sizing: border-box;padding-bottom: 0.4em;background-color: white;}#sk-container-id-2 div.sk-label label {font-family: monospace;font-weight: bold;display: inline-block;line-height: 1.2em;}#sk-container-id-2 div.sk-label-container {text-align: center;}#sk-container-id-2 div.sk-container {/* jupyter's `normalize.less` sets `[hidden] { display: none; }` but bootstrap.min.css set `[hidden] { display: none !important; }` so we also need the `!important` here to be able to override the default hidden behavior on the sphinx rendered scikit-learn.org. See: https://github.com/scikit-learn/scikit-learn/issues/21755 */display: inline-block !important;position: relative;}#sk-container-id-2 div.sk-text-repr-fallback {display: none;}</style><div id=\"sk-container-id-2\" class=\"sk-top-container\"><div class=\"sk-text-repr-fallback\"><pre>GradientBoostingClassifier()</pre><b>In a Jupyter environment, please rerun this cell to show the HTML representation or trust the notebook. <br />On GitHub, the HTML representation is unable to render, please try loading this page with nbviewer.org.</b></div><div class=\"sk-container\" hidden><div class=\"sk-item\"><div class=\"sk-estimator sk-toggleable\"><input class=\"sk-toggleable__control sk-hidden--visually\" id=\"sk-estimator-id-2\" type=\"checkbox\" checked><label for=\"sk-estimator-id-2\" class=\"sk-toggleable__label sk-toggleable__label-arrow\">GradientBoostingClassifier</label><div class=\"sk-toggleable__content\"><pre>GradientBoostingClassifier()</pre></div></div></div></div></div>"
      ],
      "text/plain": [
       "GradientBoostingClassifier()"
      ]
     },
     "execution_count": 44,
     "metadata": {},
     "output_type": "execute_result"
    }
   ],
   "source": [
    "clf2 = GradientBoostingClassifier()\n",
    "clf2.fit(X_train,y_train)"
   ]
  },
  {
   "cell_type": "code",
   "execution_count": 45,
   "id": "94cfb775",
   "metadata": {},
   "outputs": [
    {
     "name": "stdout",
     "output_type": "stream",
     "text": [
      "TRAIN - Качество модели по метрике F1 (токенизатор настроен) 0.8560479482126485\n"
     ]
    }
   ],
   "source": [
    "print('TRAIN - Качество модели по метрике F1 (токенизатор настроен)',\n",
    "      f1_score(y_train,clf2.predict(X_train),average='weighted'))"
   ]
  },
  {
   "cell_type": "code",
   "execution_count": 46,
   "id": "383c2759",
   "metadata": {},
   "outputs": [
    {
     "name": "stdout",
     "output_type": "stream",
     "text": [
      "TEST - Качество модели по метрике F1 (токенизатор настроен) 0.8540586138542992\n",
      "CPU times: user 1.36 s, sys: 65.7 ms, total: 1.42 s\n",
      "Wall time: 1.43 s\n"
     ]
    }
   ],
   "source": [
    "%%time\n",
    "pred2 = clf2.predict(X_test)\n",
    "print('TEST - Качество модели по метрике F1 (токенизатор настроен)', f1_score(y_test,pred2,average='weighted'))"
   ]
  },
  {
   "cell_type": "code",
   "execution_count": 58,
   "id": "0f21cb01",
   "metadata": {},
   "outputs": [],
   "source": [
    "with open ('transformer.pkl', 'wb') as f:\n",
    "    pickle.dump(text_transformer, f)"
   ]
  },
  {
   "cell_type": "code",
   "execution_count": 59,
   "id": "f498b816",
   "metadata": {},
   "outputs": [],
   "source": [
    "with open ('clf.pkl', 'wb') as f:\n",
    "    pickle.dump(clf2, f)"
   ]
  },
  {
   "cell_type": "code",
   "execution_count": 96,
   "id": "47646e21",
   "metadata": {},
   "outputs": [],
   "source": [
    "df['text'] = df['text'].str.replace('/','')"
   ]
  },
  {
   "cell_type": "markdown",
   "id": "784d8783",
   "metadata": {},
   "source": [
    "# приведем слова к первой форме"
   ]
  },
  {
   "cell_type": "code",
   "execution_count": 97,
   "id": "60d4cdb7",
   "metadata": {},
   "outputs": [],
   "source": [
    "pattern = r'[^А-Яа-я]+'"
   ]
  },
  {
   "cell_type": "code",
   "execution_count": 98,
   "id": "4e9158b9",
   "metadata": {},
   "outputs": [],
   "source": [
    "list = [re.sub(pattern, ' ', i) for i in ['проверкаyyy weyweywt iweiwue ><<++ 238238 ? 123 тест']]"
   ]
  },
  {
   "cell_type": "code",
   "execution_count": 99,
   "id": "b61669c5",
   "metadata": {},
   "outputs": [
    {
     "data": {
      "text/plain": [
       "['проверка тест']"
      ]
     },
     "execution_count": 99,
     "metadata": {},
     "output_type": "execute_result"
    }
   ],
   "source": [
    "list"
   ]
  },
  {
   "cell_type": "code",
   "execution_count": 100,
   "id": "56f770f4",
   "metadata": {},
   "outputs": [],
   "source": [
    "# функция удаления пунктуации и цифр\n",
    "def remove_trash(list): \n",
    "    pattern = r'[^А-Яа-я]+'\n",
    "    try:\n",
    "      list = [re.sub(pattern, ' ', i) for i in list] \n",
    "#       print (list)\n",
    "    except Exception as e:\n",
    "      print(e)\n",
    "    return list"
   ]
  },
  {
   "cell_type": "code",
   "execution_count": 101,
   "id": "6bcb7a8a",
   "metadata": {},
   "outputs": [],
   "source": [
    "df['text_clean'] = remove_trash(df['text'])"
   ]
  },
  {
   "cell_type": "code",
   "execution_count": 102,
   "id": "a14e0117",
   "metadata": {},
   "outputs": [
    {
     "data": {
      "text/html": [
       "<div>\n",
       "<style scoped>\n",
       "    .dataframe tbody tr th:only-of-type {\n",
       "        vertical-align: middle;\n",
       "    }\n",
       "\n",
       "    .dataframe tbody tr th {\n",
       "        vertical-align: top;\n",
       "    }\n",
       "\n",
       "    .dataframe thead th {\n",
       "        text-align: right;\n",
       "    }\n",
       "</style>\n",
       "<table border=\"1\" class=\"dataframe\">\n",
       "  <thead>\n",
       "    <tr style=\"text-align: right;\">\n",
       "      <th></th>\n",
       "      <th>text</th>\n",
       "      <th>text_clean</th>\n",
       "    </tr>\n",
       "  </thead>\n",
       "  <tbody>\n",
       "    <tr>\n",
       "      <th>5</th>\n",
       "      <td>Как стало известно агентству Ассошиэйтед Пресс...</td>\n",
       "      <td>Как стало известно агентству Ассошиэйтед Пресс...</td>\n",
       "    </tr>\n",
       "    <tr>\n",
       "      <th>6</th>\n",
       "      <td>В зале игровых автоматов в третьем ярусе подзе...</td>\n",
       "      <td>В зале игровых автоматов в третьем ярусе подзе...</td>\n",
       "    </tr>\n",
       "    <tr>\n",
       "      <th>7</th>\n",
       "      <td>Япония приняла решение разморозить кредиты Рос...</td>\n",
       "      <td>Япония приняла решение разморозить кредиты Рос...</td>\n",
       "    </tr>\n",
       "    <tr>\n",
       "      <th>8</th>\n",
       "      <td>Британцы отмечают сегодня скорбную дату - втор...</td>\n",
       "      <td>Британцы отмечают сегодня скорбную дату вторую...</td>\n",
       "    </tr>\n",
       "    <tr>\n",
       "      <th>9</th>\n",
       "      <td>В понедельник директор департамента внешних св...</td>\n",
       "      <td>В понедельник директор департамента внешних св...</td>\n",
       "    </tr>\n",
       "  </tbody>\n",
       "</table>\n",
       "</div>"
      ],
      "text/plain": [
       "                                                text  \\\n",
       "5  Как стало известно агентству Ассошиэйтед Пресс...   \n",
       "6  В зале игровых автоматов в третьем ярусе подзе...   \n",
       "7  Япония приняла решение разморозить кредиты Рос...   \n",
       "8  Британцы отмечают сегодня скорбную дату - втор...   \n",
       "9  В понедельник директор департамента внешних св...   \n",
       "\n",
       "                                          text_clean  \n",
       "5  Как стало известно агентству Ассошиэйтед Пресс...  \n",
       "6  В зале игровых автоматов в третьем ярусе подзе...  \n",
       "7  Япония приняла решение разморозить кредиты Рос...  \n",
       "8  Британцы отмечают сегодня скорбную дату вторую...  \n",
       "9  В понедельник директор департамента внешних св...  "
      ]
     },
     "execution_count": 102,
     "metadata": {},
     "output_type": "execute_result"
    }
   ],
   "source": [
    "df[['text','text_clean']].head()"
   ]
  },
  {
   "cell_type": "code",
   "execution_count": 103,
   "id": "3026fa18",
   "metadata": {},
   "outputs": [
    {
     "data": {
      "text/plain": [
       "url               0\n",
       "title             0\n",
       "text              0\n",
       "topic             0\n",
       "tags          15328\n",
       "date              0\n",
       "text_clean        0\n",
       "dtype: int64"
      ]
     },
     "execution_count": 103,
     "metadata": {},
     "output_type": "execute_result"
    }
   ],
   "source": [
    "df.isna().sum()"
   ]
  },
  {
   "cell_type": "code",
   "execution_count": 104,
   "id": "a0626a02",
   "metadata": {},
   "outputs": [],
   "source": [
    "df = df[~df.text_clean.isna()].copy()"
   ]
  },
  {
   "cell_type": "code",
   "execution_count": 105,
   "id": "facd2d70",
   "metadata": {},
   "outputs": [],
   "source": [
    "#токенизатор удалил мусор"
   ]
  },
  {
   "cell_type": "code",
   "execution_count": 124,
   "id": "fe30f41d",
   "metadata": {},
   "outputs": [],
   "source": [
    "text_transformer = TfidfVectorizer(stop_words=stop_russian, \n",
    "                                   ngram_range=(1,1), \n",
    "                                   lowercase=True, \n",
    "                                   max_features=10000 )\n",
    "text = text_transformer.fit_transform(df['text_clean'])\n",
    "X_train, X_test, y_train, y_test = train_test_split(text, df['topic'], test_size=0.2, random_state=RANDOM_STATE)"
   ]
  },
  {
   "cell_type": "code",
   "execution_count": 125,
   "id": "1f8a578c",
   "metadata": {},
   "outputs": [
    {
     "name": "stdout",
     "output_type": "stream",
     "text": [
      "Качество модели по метрике F1 (токенизатор настроен и убран мусор) 0.32884454455872786\n"
     ]
    }
   ],
   "source": [
    "clf3 = tree.DecisionTreeClassifier(max_depth=3)\n",
    "clf3.fit(X_train,y_train)\n",
    "pred3 = clf3.predict(X_test)\n",
    "print('Качество модели по метрике F1 (токенизатор настроен и убран мусор)', f1_score(y_test,pred3,average='weighted'))"
   ]
  },
  {
   "cell_type": "markdown",
   "id": "d9d51658",
   "metadata": {},
   "source": [
    "# попробуем лемматизацию"
   ]
  },
  {
   "cell_type": "code",
   "execution_count": 126,
   "id": "a4ccaf13",
   "metadata": {},
   "outputs": [],
   "source": [
    "morph = pymorphy2.MorphAnalyzer()"
   ]
  },
  {
   "cell_type": "code",
   "execution_count": 127,
   "id": "89ef5c97",
   "metadata": {},
   "outputs": [],
   "source": [
    "# функция лемматизации\n",
    "def lemmatize(row):\n",
    "    t = []\n",
    "    text = row['text_clean']\n",
    "    for word in text.split():\n",
    "        if len(word)<=1:\n",
    "            continue\n",
    "        p = morph.parse(word)[0]\n",
    "        t.append(p.normal_form)\n",
    "    return \" \".join(t)"
   ]
  },
  {
   "cell_type": "code",
   "execution_count": 128,
   "id": "a9a4c4ca",
   "metadata": {},
   "outputs": [
    {
     "data": {
      "text/plain": [
       "5         Как стало известно агентству Ассошиэйтед Пресс...\n",
       "6         В зале игровых автоматов в третьем ярусе подзе...\n",
       "7         Япония приняла решение разморозить кредиты Рос...\n",
       "8         Британцы отмечают сегодня скорбную дату - втор...\n",
       "9         В понедельник директор департамента внешних св...\n",
       "                                ...                        \n",
       "739168    Президент России Владимир Путин, выступая на з...\n",
       "739169    Президент России Владимир Путин организовал дл...\n",
       "739171    Протесты движения «желтых жилетов» в Париже сн...\n",
       "739174    Швейцарский горнолыжник Марк Гизин неудачно пр...\n",
       "739175    Президент России Владимир Путин рассказал, что...\n",
       "Name: text, Length: 494799, dtype: object"
      ]
     },
     "execution_count": 128,
     "metadata": {},
     "output_type": "execute_result"
    }
   ],
   "source": [
    "df.text"
   ]
  },
  {
   "cell_type": "code",
   "execution_count": 129,
   "id": "754734ee",
   "metadata": {},
   "outputs": [],
   "source": [
    "t = []\n",
    "text = 'Минфин предлагает увеличить размер штрафа'\n",
    "for word in text.split():\n",
    "    if len(word)<=3:\n",
    "        continue\n",
    "    p = morph.parse(word)[0]\n",
    "    t.append(p.normal_form)"
   ]
  },
  {
   "cell_type": "code",
   "execution_count": 130,
   "id": "350a8471",
   "metadata": {},
   "outputs": [
    {
     "data": {
      "text/plain": [
       "'минфин предлагать увеличить размер штраф'"
      ]
     },
     "execution_count": 130,
     "metadata": {},
     "output_type": "execute_result"
    }
   ],
   "source": [
    "\" \".join(t)"
   ]
  },
  {
   "cell_type": "code",
   "execution_count": 131,
   "id": "848903d7",
   "metadata": {},
   "outputs": [
    {
     "name": "stdout",
     "output_type": "stream",
     "text": [
      "CPU times: user 2h 28min 47s, sys: 16.7 s, total: 2h 29min 4s\n",
      "Wall time: 3h 59min 40s\n"
     ]
    }
   ],
   "source": [
    "%%time\n",
    "df['text_clean_normal'] = df.apply(lemmatize,axis=1)"
   ]
  },
  {
   "cell_type": "code",
   "execution_count": 132,
   "id": "e0651807",
   "metadata": {},
   "outputs": [],
   "source": [
    "# Запись в файл объекта\n",
    "with open('my_newfile.pkl','wb') as f:\n",
    "    pickle.dump(df['text'],f)"
   ]
  },
  {
   "cell_type": "code",
   "execution_count": 133,
   "id": "138e55aa",
   "metadata": {},
   "outputs": [],
   "source": [
    "#Чтение объекта в память\n",
    "with open ('my_newfile.pkl','rb') as f:\n",
    "    data_df = pickle.load(f)"
   ]
  },
  {
   "cell_type": "code",
   "execution_count": 134,
   "id": "c8e3e401",
   "metadata": {},
   "outputs": [],
   "source": [
    "# пример записи объекта в файл\n",
    "with open('df_norma.pkl','wb') as f:\n",
    "    pickle.dump(df,f)"
   ]
  },
  {
   "cell_type": "code",
   "execution_count": 135,
   "id": "f093a96c",
   "metadata": {},
   "outputs": [],
   "source": [
    "# пример чтения объекта из файла в оперативную память\n",
    "with open('df_norma.pkl','rb') as f:\n",
    "    df = pickle.load(f)"
   ]
  },
  {
   "cell_type": "code",
   "execution_count": 136,
   "id": "51224dd2",
   "metadata": {},
   "outputs": [
    {
     "data": {
      "text/html": [
       "<div>\n",
       "<style scoped>\n",
       "    .dataframe tbody tr th:only-of-type {\n",
       "        vertical-align: middle;\n",
       "    }\n",
       "\n",
       "    .dataframe tbody tr th {\n",
       "        vertical-align: top;\n",
       "    }\n",
       "\n",
       "    .dataframe thead th {\n",
       "        text-align: right;\n",
       "    }\n",
       "</style>\n",
       "<table border=\"1\" class=\"dataframe\">\n",
       "  <thead>\n",
       "    <tr style=\"text-align: right;\">\n",
       "      <th></th>\n",
       "      <th>url</th>\n",
       "      <th>title</th>\n",
       "      <th>text</th>\n",
       "      <th>topic</th>\n",
       "      <th>tags</th>\n",
       "      <th>date</th>\n",
       "      <th>text_clean</th>\n",
       "      <th>text_clean_normal</th>\n",
       "    </tr>\n",
       "  </thead>\n",
       "  <tbody>\n",
       "    <tr>\n",
       "      <th>5</th>\n",
       "      <td>https://lenta.ru/news/1999/08/31/stancia_mir/</td>\n",
       "      <td>Космонавты сомневаются в надежности \"Мира\"</td>\n",
       "      <td>Как стало известно агентству Ассошиэйтед Пресс...</td>\n",
       "      <td>Россия</td>\n",
       "      <td>Все</td>\n",
       "      <td>1999/08/31</td>\n",
       "      <td>Как стало известно агентству Ассошиэйтед Пресс...</td>\n",
       "      <td>как стать известно агентство ассошиэйтед пресс...</td>\n",
       "    </tr>\n",
       "    <tr>\n",
       "      <th>6</th>\n",
       "      <td>https://lenta.ru/news/1999/08/31/vzriv/</td>\n",
       "      <td>Взрыв в центре Москвы: пострадало 30 человек</td>\n",
       "      <td>В зале игровых автоматов в третьем ярусе подзе...</td>\n",
       "      <td>Россия</td>\n",
       "      <td>Все</td>\n",
       "      <td>1999/08/31</td>\n",
       "      <td>В зале игровых автоматов в третьем ярусе подзе...</td>\n",
       "      <td>зал игровой автомат третий ярус подземный комп...</td>\n",
       "    </tr>\n",
       "    <tr>\n",
       "      <th>7</th>\n",
       "      <td>https://lenta.ru/news/1999/08/31/credit_japs/</td>\n",
       "      <td>Япония кредитует Россию на полтора миллиарда д...</td>\n",
       "      <td>Япония приняла решение разморозить кредиты Рос...</td>\n",
       "      <td>Россия</td>\n",
       "      <td>Все</td>\n",
       "      <td>1999/08/31</td>\n",
       "      <td>Япония приняла решение разморозить кредиты Рос...</td>\n",
       "      <td>япония принять решение разморозить кредит росс...</td>\n",
       "    </tr>\n",
       "    <tr>\n",
       "      <th>8</th>\n",
       "      <td>https://lenta.ru/news/1999/08/31/diana/</td>\n",
       "      <td>Британцы отмечают двухлетие смерти Дианы</td>\n",
       "      <td>Британцы отмечают сегодня скорбную дату - втор...</td>\n",
       "      <td>Мир</td>\n",
       "      <td>Все</td>\n",
       "      <td>1999/08/31</td>\n",
       "      <td>Британцы отмечают сегодня скорбную дату вторую...</td>\n",
       "      <td>британец отмечать сегодня скорбный дата вторую...</td>\n",
       "    </tr>\n",
       "    <tr>\n",
       "      <th>9</th>\n",
       "      <td>https://lenta.ru/news/1999/08/31/mvf/</td>\n",
       "      <td>Отмытые через Bank of NY деньги не имели отнош...</td>\n",
       "      <td>В понедельник директор департамента внешних св...</td>\n",
       "      <td>Россия</td>\n",
       "      <td>Все</td>\n",
       "      <td>1999/08/31</td>\n",
       "      <td>В понедельник директор департамента внешних св...</td>\n",
       "      <td>понедельник директор департамент внешний связь...</td>\n",
       "    </tr>\n",
       "  </tbody>\n",
       "</table>\n",
       "</div>"
      ],
      "text/plain": [
       "                                             url  \\\n",
       "5  https://lenta.ru/news/1999/08/31/stancia_mir/   \n",
       "6        https://lenta.ru/news/1999/08/31/vzriv/   \n",
       "7  https://lenta.ru/news/1999/08/31/credit_japs/   \n",
       "8        https://lenta.ru/news/1999/08/31/diana/   \n",
       "9          https://lenta.ru/news/1999/08/31/mvf/   \n",
       "\n",
       "                                               title  \\\n",
       "5         Космонавты сомневаются в надежности \"Мира\"   \n",
       "6       Взрыв в центре Москвы: пострадало 30 человек   \n",
       "7  Япония кредитует Россию на полтора миллиарда д...   \n",
       "8           Британцы отмечают двухлетие смерти Дианы   \n",
       "9  Отмытые через Bank of NY деньги не имели отнош...   \n",
       "\n",
       "                                                text   topic tags        date  \\\n",
       "5  Как стало известно агентству Ассошиэйтед Пресс...  Россия  Все  1999/08/31   \n",
       "6  В зале игровых автоматов в третьем ярусе подзе...  Россия  Все  1999/08/31   \n",
       "7  Япония приняла решение разморозить кредиты Рос...  Россия  Все  1999/08/31   \n",
       "8  Британцы отмечают сегодня скорбную дату - втор...     Мир  Все  1999/08/31   \n",
       "9  В понедельник директор департамента внешних св...  Россия  Все  1999/08/31   \n",
       "\n",
       "                                          text_clean  \\\n",
       "5  Как стало известно агентству Ассошиэйтед Пресс...   \n",
       "6  В зале игровых автоматов в третьем ярусе подзе...   \n",
       "7  Япония приняла решение разморозить кредиты Рос...   \n",
       "8  Британцы отмечают сегодня скорбную дату вторую...   \n",
       "9  В понедельник директор департамента внешних св...   \n",
       "\n",
       "                                   text_clean_normal  \n",
       "5  как стать известно агентство ассошиэйтед пресс...  \n",
       "6  зал игровой автомат третий ярус подземный комп...  \n",
       "7  япония принять решение разморозить кредит росс...  \n",
       "8  британец отмечать сегодня скорбный дата вторую...  \n",
       "9  понедельник директор департамент внешний связь...  "
      ]
     },
     "execution_count": 136,
     "metadata": {},
     "output_type": "execute_result"
    }
   ],
   "source": [
    "df.head()"
   ]
  },
  {
   "cell_type": "code",
   "execution_count": 137,
   "id": "ade24dc3",
   "metadata": {},
   "outputs": [
    {
     "data": {
      "text/html": [
       "<div>\n",
       "<style scoped>\n",
       "    .dataframe tbody tr th:only-of-type {\n",
       "        vertical-align: middle;\n",
       "    }\n",
       "\n",
       "    .dataframe tbody tr th {\n",
       "        vertical-align: top;\n",
       "    }\n",
       "\n",
       "    .dataframe thead th {\n",
       "        text-align: right;\n",
       "    }\n",
       "</style>\n",
       "<table border=\"1\" class=\"dataframe\">\n",
       "  <thead>\n",
       "    <tr style=\"text-align: right;\">\n",
       "      <th></th>\n",
       "      <th>text</th>\n",
       "      <th>text_clean_normal</th>\n",
       "    </tr>\n",
       "  </thead>\n",
       "  <tbody>\n",
       "    <tr>\n",
       "      <th>739161</th>\n",
       "      <td>Одиннадцать человек скончались после приема пи...</td>\n",
       "      <td>одиннадцать человек скончаться после приём пищ...</td>\n",
       "    </tr>\n",
       "    <tr>\n",
       "      <th>739162</th>\n",
       "      <td>Россия не настроена серьезно на сохранение Дог...</td>\n",
       "      <td>россия не настроить серьёзно на сохранение дог...</td>\n",
       "    </tr>\n",
       "    <tr>\n",
       "      <th>739164</th>\n",
       "      <td>Федеральный суд в техасском городе Форт-Уорт о...</td>\n",
       "      <td>федеральный суд техасский город форт уорт объя...</td>\n",
       "    </tr>\n",
       "    <tr>\n",
       "      <th>739166</th>\n",
       "      <td>Россия призвала Китай принять участие в перего...</td>\n",
       "      <td>россия призвать китай принять участие перегово...</td>\n",
       "    </tr>\n",
       "    <tr>\n",
       "      <th>739167</th>\n",
       "      <td>Главный тренер «Манчестер Юнайтед» Жозе Моурин...</td>\n",
       "      <td>главный тренер манчестер юнайтед жозе моуринья...</td>\n",
       "    </tr>\n",
       "    <tr>\n",
       "      <th>739168</th>\n",
       "      <td>Президент России Владимир Путин, выступая на з...</td>\n",
       "      <td>президент россия владимир путин выступать на з...</td>\n",
       "    </tr>\n",
       "    <tr>\n",
       "      <th>739169</th>\n",
       "      <td>Президент России Владимир Путин организовал дл...</td>\n",
       "      <td>президент россия владимир путин организовать д...</td>\n",
       "    </tr>\n",
       "    <tr>\n",
       "      <th>739171</th>\n",
       "      <td>Протесты движения «желтых жилетов» в Париже сн...</td>\n",
       "      <td>протест движение жёлтый жилет париж снова прив...</td>\n",
       "    </tr>\n",
       "    <tr>\n",
       "      <th>739174</th>\n",
       "      <td>Швейцарский горнолыжник Марк Гизин неудачно пр...</td>\n",
       "      <td>швейцарский горнолыжник марк гизина неудачно п...</td>\n",
       "    </tr>\n",
       "    <tr>\n",
       "      <th>739175</th>\n",
       "      <td>Президент России Владимир Путин рассказал, что...</td>\n",
       "      <td>президент россия владимир путин рассказать что...</td>\n",
       "    </tr>\n",
       "  </tbody>\n",
       "</table>\n",
       "</div>"
      ],
      "text/plain": [
       "                                                     text  \\\n",
       "739161  Одиннадцать человек скончались после приема пи...   \n",
       "739162  Россия не настроена серьезно на сохранение Дог...   \n",
       "739164  Федеральный суд в техасском городе Форт-Уорт о...   \n",
       "739166  Россия призвала Китай принять участие в перего...   \n",
       "739167  Главный тренер «Манчестер Юнайтед» Жозе Моурин...   \n",
       "739168  Президент России Владимир Путин, выступая на з...   \n",
       "739169  Президент России Владимир Путин организовал дл...   \n",
       "739171  Протесты движения «желтых жилетов» в Париже сн...   \n",
       "739174  Швейцарский горнолыжник Марк Гизин неудачно пр...   \n",
       "739175  Президент России Владимир Путин рассказал, что...   \n",
       "\n",
       "                                        text_clean_normal  \n",
       "739161  одиннадцать человек скончаться после приём пищ...  \n",
       "739162  россия не настроить серьёзно на сохранение дог...  \n",
       "739164  федеральный суд техасский город форт уорт объя...  \n",
       "739166  россия призвать китай принять участие перегово...  \n",
       "739167  главный тренер манчестер юнайтед жозе моуринья...  \n",
       "739168  президент россия владимир путин выступать на з...  \n",
       "739169  президент россия владимир путин организовать д...  \n",
       "739171  протест движение жёлтый жилет париж снова прив...  \n",
       "739174  швейцарский горнолыжник марк гизина неудачно п...  \n",
       "739175  президент россия владимир путин рассказать что...  "
      ]
     },
     "execution_count": 137,
     "metadata": {},
     "output_type": "execute_result"
    }
   ],
   "source": [
    "df[['text','text_clean_normal']].tail(10)"
   ]
  },
  {
   "cell_type": "markdown",
   "id": "9ed37d1f",
   "metadata": {},
   "source": [
    "# качество модели после лемматизации"
   ]
  },
  {
   "cell_type": "code",
   "execution_count": 139,
   "id": "84af27f1",
   "metadata": {},
   "outputs": [],
   "source": [
    "text_transformer = TfidfVectorizer(stop_words=stop_russian, \n",
    "                                   ngram_range=(1,1), \n",
    "                                   lowercase=True, \n",
    "                                   max_features=10000)\n",
    "text_norm = text_transformer.fit_transform(df['text_clean_normal'])\n",
    "X_train, X_test, y_train, y_test = train_test_split(text_norm, df['topic'], test_size=0.20, random_state=RANDOM_STATE)"
   ]
  },
  {
   "cell_type": "code",
   "execution_count": 140,
   "id": "62f25f33",
   "metadata": {},
   "outputs": [
    {
     "data": {
      "text/plain": [
       "<1x10000 sparse matrix of type '<class 'numpy.float64'>'\n",
       "\twith 3 stored elements in Compressed Sparse Row format>"
      ]
     },
     "execution_count": 140,
     "metadata": {},
     "output_type": "execute_result"
    }
   ],
   "source": [
    "text_transformer.transform(['Минфин предлагает увеличить размер'])"
   ]
  },
  {
   "cell_type": "code",
   "execution_count": 141,
   "id": "6e690114",
   "metadata": {},
   "outputs": [],
   "source": [
    "clf_norm = tree.DecisionTreeClassifier()\n",
    "clf_norm.fit(X_train,y_train)\n",
    "pred_norm = clf_norm.predict(X_test)"
   ]
  },
  {
   "cell_type": "code",
   "execution_count": 142,
   "id": "f1a25023",
   "metadata": {},
   "outputs": [
    {
     "data": {
      "text/plain": [
       "array(['Мир'], dtype=object)"
      ]
     },
     "execution_count": 142,
     "metadata": {},
     "output_type": "execute_result"
    }
   ],
   "source": [
    "clf_norm.predict(text_transformer.transform(['Минфин предлагает увеличить размер']))"
   ]
  },
  {
   "cell_type": "code",
   "execution_count": 143,
   "id": "fb7dc283",
   "metadata": {},
   "outputs": [
    {
     "name": "stdout",
     "output_type": "stream",
     "text": [
      "Качество модели по метрике F1 после лемматизации 0.8142661691937688\n"
     ]
    }
   ],
   "source": [
    "print('Качество модели по метрике F1 после лемматизации', f1_score(y_test,pred_norm,average='weighted'))"
   ]
  },
  {
   "cell_type": "code",
   "execution_count": 144,
   "id": "fadf62bc",
   "metadata": {},
   "outputs": [],
   "source": [
    "## Сравниваем вектора текстов"
   ]
  },
  {
   "cell_type": "code",
   "execution_count": 145,
   "id": "fb800d4e",
   "metadata": {},
   "outputs": [],
   "source": [
    "from sklearn.metrics.pairwise import cosine_similarity\n",
    "import numpy as np\n",
    "\n",
    "\n",
    "textA = text_transformer.transform(['бывший тренер сборная россия владимир плющев']   )                              \n",
    "\n",
    "test = cosine_similarity(text_norm, textA)"
   ]
  },
  {
   "cell_type": "code",
   "execution_count": 146,
   "id": "419d4368",
   "metadata": {},
   "outputs": [],
   "source": [
    "testdf = pd.DataFrame(test)\n",
    "testdf.columns=['vector']"
   ]
  },
  {
   "cell_type": "code",
   "execution_count": 147,
   "id": "609a598a",
   "metadata": {},
   "outputs": [
    {
     "data": {
      "text/html": [
       "<div>\n",
       "<style scoped>\n",
       "    .dataframe tbody tr th:only-of-type {\n",
       "        vertical-align: middle;\n",
       "    }\n",
       "\n",
       "    .dataframe tbody tr th {\n",
       "        vertical-align: top;\n",
       "    }\n",
       "\n",
       "    .dataframe thead th {\n",
       "        text-align: right;\n",
       "    }\n",
       "</style>\n",
       "<table border=\"1\" class=\"dataframe\">\n",
       "  <thead>\n",
       "    <tr style=\"text-align: right;\">\n",
       "      <th></th>\n",
       "      <th>vector</th>\n",
       "    </tr>\n",
       "  </thead>\n",
       "  <tbody>\n",
       "    <tr>\n",
       "      <th>79742</th>\n",
       "      <td>0.573275</td>\n",
       "    </tr>\n",
       "    <tr>\n",
       "      <th>316961</th>\n",
       "      <td>0.558445</td>\n",
       "    </tr>\n",
       "    <tr>\n",
       "      <th>46511</th>\n",
       "      <td>0.515492</td>\n",
       "    </tr>\n",
       "    <tr>\n",
       "      <th>45830</th>\n",
       "      <td>0.511427</td>\n",
       "    </tr>\n",
       "    <tr>\n",
       "      <th>288703</th>\n",
       "      <td>0.502407</td>\n",
       "    </tr>\n",
       "  </tbody>\n",
       "</table>\n",
       "</div>"
      ],
      "text/plain": [
       "          vector\n",
       "79742   0.573275\n",
       "316961  0.558445\n",
       "46511   0.515492\n",
       "45830   0.511427\n",
       "288703  0.502407"
      ]
     },
     "execution_count": 147,
     "metadata": {},
     "output_type": "execute_result"
    }
   ],
   "source": [
    "testdf.sort_values(by='vector',ascending=False).head(5)"
   ]
  },
  {
   "cell_type": "code",
   "execution_count": 148,
   "id": "61a7f17f",
   "metadata": {},
   "outputs": [
    {
     "data": {
      "text/plain": [
       "array(['связь перекладка инженерный коммуникация строительство эстакада для развязка третий транспортный кольцо ленинградский проспект москва октябрь закрываться движение автотранспорт при съезд по развязка с сторона гостиница советский как сообщить информационный агентство интерфакс гибдд столица движение на участок закрываться ориентировочно до август год также отменяться правый поворот ленинградский проспект на улица нижний башиловка при движение из центр направление дмитровский шоссе выезд внутренний сторона третий кольцо на ленинградский проспект при движение с сторона бегов улица направление область ранее сообщаться что ремонт на третий транспортный кольцо москва быть идти течение день по октябрь быть перекрыть выезд внутренний сторона кольцо на ленинский проспект направление область гибдд обратиться автомобилист просьба заранее планировать поездка учёт маршрут объезд'],\n",
       "      dtype=object)"
      ]
     },
     "execution_count": 148,
     "metadata": {},
     "output_type": "execute_result"
    }
   ],
   "source": [
    "df[df.index==103437]['text_clean_normal'].values"
   ]
  },
  {
   "cell_type": "code",
   "execution_count": null,
   "id": "2af768ba",
   "metadata": {},
   "outputs": [],
   "source": []
  }
 ],
 "metadata": {
  "kernelspec": {
   "display_name": "Python 3 (ipykernel)",
   "language": "python",
   "name": "python3"
  },
  "language_info": {
   "codemirror_mode": {
    "name": "ipython",
    "version": 3
   },
   "file_extension": ".py",
   "mimetype": "text/x-python",
   "name": "python",
   "nbconvert_exporter": "python",
   "pygments_lexer": "ipython3",
   "version": "3.10.9"
  }
 },
 "nbformat": 4,
 "nbformat_minor": 5
}
