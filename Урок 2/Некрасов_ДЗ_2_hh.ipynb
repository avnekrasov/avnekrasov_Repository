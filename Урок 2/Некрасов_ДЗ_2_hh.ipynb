{
 "cells": [
  {
   "cell_type": "markdown",
   "metadata": {},
   "source": [
    "# Задание\n",
    "* Cкачайте все вакансии СБЕРа из api hh.ru (https://github.com/hhru/api у апи есть ограничение в 2000, подумайте как его обойти)\n",
    "* Извлеките все полные описания этих вакансий по запросу с https://api.hh.ru/vacancies/43326020 где 43326020 id вакансии\n",
    "* Создайте DataFrame в котором будут даты публикации вакансий, названия, описания,  только добавьте поле ключевые навыки\n",
    "* Переведите даты публикаций в формат datetime и постройте график опубликованных вакансий по датам\n",
    "* Переведите даты в дни недели, и определите день недели, в который больше всего публикуют вакансий\n",
    "* Найдите вакансии с использованием python, которые вам интересны\n",
    "* Определите по полю с ключевыми навыками, какие навыки больше всего востребованы для найденных вакансий\n",
    "* Постройте график наиболее востребованных навыков"
   ]
  },
  {
   "cell_type": "code",
   "execution_count": 90,
   "metadata": {},
   "outputs": [],
   "source": [
    "import requests\n",
    "from tqdm.auto import tqdm\n",
    "from time import sleep\n",
    "import json\n",
    "import numpy as np\n",
    "import pandas as pd\n",
    "import matplotlib.pyplot as plt\n",
    "from datetime import datetime, date, time"
   ]
  },
  {
   "cell_type": "markdown",
   "metadata": {},
   "source": [
    "## Задание 1\n",
    "#### Cкачайте все вакансии СБЕРа из api hh.ru (https://github.com/hhru/api у апи есть ограничение в 2000, подумайте как его обойти)\n",
    "\n",
    "\n",
    "документация по запросу тут https://api.hh.ru/openapi/redoc#tag/Poisk-vakansij-dlya-soiskatelya/operation/get-vacancies-similar-to-resume\n",
    "\n",
    "Россия = 113\n",
    "Москва - 1 (родительский 113)\n",
    "\n",
    "для сбора по все России используем регион по дефолту\n",
    "для запроса всех данных ????"
   ]
  },
  {
   "cell_type": "code",
   "execution_count": 124,
   "metadata": {},
   "outputs": [],
   "source": [
    "sber = '3529'\n",
    "page = 1\n",
    "num_per_page = 100\n",
    "moscow = 1\n",
    "url = f'https://api.hh.ru/vacancies?employer_id={sber}&page={page}&per_page={num_per_page}&area={moscow}'"
   ]
  },
  {
   "cell_type": "code",
   "execution_count": 125,
   "metadata": {},
   "outputs": [
    {
     "data": {
      "text/plain": [
       "20"
      ]
     },
     "execution_count": 125,
     "metadata": {},
     "output_type": "execute_result"
    }
   ],
   "source": [
    "res_moscow = requests.get(url)\n",
    "vacancies = res.json()\n",
    "num_pages = vacancies.get('pages')\n",
    "num_pages"
   ]
  },
  {
   "cell_type": "code",
   "execution_count": 130,
   "metadata": {},
   "outputs": [],
   "source": [
    "#res_moscow.content # что получил запрос"
   ]
  },
  {
   "cell_type": "code",
   "execution_count": 131,
   "metadata": {},
   "outputs": [],
   "source": [
    "data_moscow = json.loads(res_moscow.content) "
   ]
  },
  {
   "cell_type": "code",
   "execution_count": 135,
   "metadata": {},
   "outputs": [],
   "source": [
    "vacancies_moscow = res.json()\n",
    "num_pages = vacancies.get('pages')\n",
    "vacancy_moscow_ids = [el.get('id') for el in vacancies.get('items')]"
   ]
  },
  {
   "cell_type": "code",
   "execution_count": 137,
   "metadata": {},
   "outputs": [],
   "source": [
    "data_df = pd.DataFrame(data)"
   ]
  },
  {
   "cell_type": "code",
   "execution_count": 140,
   "metadata": {},
   "outputs": [
    {
     "data": {
      "application/vnd.jupyter.widget-view+json": {
       "model_id": "5d8d2f7ab00f4e73b69777a5b19bcfd5",
       "version_major": 2,
       "version_minor": 0
      },
      "text/plain": [
       "  0%|          | 0/20 [00:00<?, ?it/s]"
      ]
     },
     "metadata": {},
     "output_type": "display_data"
    }
   ],
   "source": [
    "all_vacancy_ids= []\n",
    "for i in tqdm(range(vacancies.get('pages'))):\n",
    "    url = f'https://api.hh.ru/vacancies?employer_id={sber}&page={i}&per_page={num_per_page}&area={moscow}'\n",
    "    res = requests.get(url)\n",
    "    vacancies = res.json()\n",
    "    vacancy_ids = [el.get('id') for el in vacancies.get('items')]\n",
    "    all_vacancy_ids.extend(vacancy_ids)\n",
    "    sleep(5)"
   ]
  },
  {
   "cell_type": "code",
   "execution_count": 139,
   "metadata": {},
   "outputs": [
    {
     "data": {
      "text/plain": [
       "2000"
      ]
     },
     "execution_count": 139,
     "metadata": {},
     "output_type": "execute_result"
    }
   ],
   "source": [
    "len(all_vacancy_ids)"
   ]
  },
  {
   "cell_type": "markdown",
   "metadata": {},
   "source": [
    "## Задание 2\n",
    "#### Извлеките все полные описания этих вакансий по запросу с https://api.hh.ru/vacancies/43326020 где 43326020 id вакансии"
   ]
  },
  {
   "cell_type": "code",
   "execution_count": 18,
   "metadata": {},
   "outputs": [
    {
     "data": {
      "text/plain": [
       "dict"
      ]
     },
     "execution_count": 18,
     "metadata": {},
     "output_type": "execute_result"
    }
   ],
   "source": [
    "vac_id = 43326020\n",
    "url = f'https://api.hh.ru/vacancies/{vac_id}'\n",
    "res = requests.get(url)\n",
    "vacancy = res.json()\n",
    "type(vacancy)"
   ]
  },
  {
   "cell_type": "code",
   "execution_count": 19,
   "metadata": {},
   "outputs": [],
   "source": [
    "df = pd.json_normalize(vacancy)"
   ]
  },
  {
   "cell_type": "code",
   "execution_count": 21,
   "metadata": {},
   "outputs": [
    {
     "data": {
      "application/vnd.jupyter.widget-view+json": {
       "model_id": "1119c4d03ece4fafa62f44844f845a00",
       "version_major": 2,
       "version_minor": 0
      },
      "text/plain": [
       "  0%|          | 0/22 [00:00<?, ?it/s]"
      ]
     },
     "metadata": {},
     "output_type": "display_data"
    }
   ],
   "source": [
    "vac_dict_test = []\n",
    "for vac_id in tqdm(all_vacancy_ids_test):\n",
    "    url = f'https://api.hh.ru/vacancies/{vac_id}'\n",
    "    res = requests.get(url)\n",
    "    vac_dict_test.append(res.json())\n",
    "    sleep(3)"
   ]
  },
  {
   "cell_type": "code",
   "execution_count": 141,
   "metadata": {},
   "outputs": [
    {
     "data": {
      "application/vnd.jupyter.widget-view+json": {
       "model_id": "614de0a1b3fa44158fecb17e3bbb45c5",
       "version_major": 2,
       "version_minor": 0
      },
      "text/plain": [
       "  0%|          | 0/1536 [00:00<?, ?it/s]"
      ]
     },
     "metadata": {},
     "output_type": "display_data"
    }
   ],
   "source": [
    "vac_dict_test = []\n",
    "for vac_id in tqdm(all_vacancy_ids):\n",
    "    url = f'https://api.hh.ru/vacancies/{vac_id}'\n",
    "    res = requests.get(url)\n",
    "    vac_dict_test.append(res.json())\n",
    "    sleep(3)"
   ]
  },
  {
   "cell_type": "code",
   "execution_count": 149,
   "metadata": {},
   "outputs": [],
   "source": [
    "vacancy_df_test = pd.json_normalize(vac_dict_test)"
   ]
  },
  {
   "cell_type": "code",
   "execution_count": 150,
   "metadata": {},
   "outputs": [
    {
     "data": {
      "text/html": [
       "<div>\n",
       "<style scoped>\n",
       "    .dataframe tbody tr th:only-of-type {\n",
       "        vertical-align: middle;\n",
       "    }\n",
       "\n",
       "    .dataframe tbody tr th {\n",
       "        vertical-align: top;\n",
       "    }\n",
       "\n",
       "    .dataframe thead th {\n",
       "        text-align: right;\n",
       "    }\n",
       "</style>\n",
       "<table border=\"1\" class=\"dataframe\">\n",
       "  <thead>\n",
       "    <tr style=\"text-align: right;\">\n",
       "      <th></th>\n",
       "      <th>id</th>\n",
       "      <th>premium</th>\n",
       "      <th>relations</th>\n",
       "      <th>name</th>\n",
       "      <th>insider_interview</th>\n",
       "      <th>response_letter_required</th>\n",
       "      <th>salary</th>\n",
       "      <th>address</th>\n",
       "      <th>allow_messages</th>\n",
       "      <th>contacts</th>\n",
       "      <th>...</th>\n",
       "      <th>address.metro_stations</th>\n",
       "      <th>test.required</th>\n",
       "      <th>address.metro.station_name</th>\n",
       "      <th>address.metro.line_name</th>\n",
       "      <th>address.metro.station_id</th>\n",
       "      <th>address.metro.line_id</th>\n",
       "      <th>address.metro.lat</th>\n",
       "      <th>address.metro.lng</th>\n",
       "      <th>department</th>\n",
       "      <th>immediate_redirect_url</th>\n",
       "    </tr>\n",
       "  </thead>\n",
       "  <tbody>\n",
       "    <tr>\n",
       "      <th>0</th>\n",
       "      <td>79050720</td>\n",
       "      <td>False</td>\n",
       "      <td>[]</td>\n",
       "      <td>Переводчик</td>\n",
       "      <td>None</td>\n",
       "      <td>False</td>\n",
       "      <td>NaN</td>\n",
       "      <td>NaN</td>\n",
       "      <td>True</td>\n",
       "      <td>None</td>\n",
       "      <td>...</td>\n",
       "      <td>NaN</td>\n",
       "      <td>NaN</td>\n",
       "      <td>NaN</td>\n",
       "      <td>NaN</td>\n",
       "      <td>NaN</td>\n",
       "      <td>NaN</td>\n",
       "      <td>NaN</td>\n",
       "      <td>NaN</td>\n",
       "      <td>NaN</td>\n",
       "      <td>NaN</td>\n",
       "    </tr>\n",
       "    <tr>\n",
       "      <th>1</th>\n",
       "      <td>78996021</td>\n",
       "      <td>False</td>\n",
       "      <td>[]</td>\n",
       "      <td>Исполнительный директор</td>\n",
       "      <td>None</td>\n",
       "      <td>False</td>\n",
       "      <td>NaN</td>\n",
       "      <td>NaN</td>\n",
       "      <td>False</td>\n",
       "      <td>None</td>\n",
       "      <td>...</td>\n",
       "      <td>NaN</td>\n",
       "      <td>NaN</td>\n",
       "      <td>NaN</td>\n",
       "      <td>NaN</td>\n",
       "      <td>NaN</td>\n",
       "      <td>NaN</td>\n",
       "      <td>NaN</td>\n",
       "      <td>NaN</td>\n",
       "      <td>NaN</td>\n",
       "      <td>NaN</td>\n",
       "    </tr>\n",
       "    <tr>\n",
       "      <th>2</th>\n",
       "      <td>75313444</td>\n",
       "      <td>False</td>\n",
       "      <td>[]</td>\n",
       "      <td>Персональный Менеджер Премьер</td>\n",
       "      <td>None</td>\n",
       "      <td>False</td>\n",
       "      <td>NaN</td>\n",
       "      <td>NaN</td>\n",
       "      <td>False</td>\n",
       "      <td>None</td>\n",
       "      <td>...</td>\n",
       "      <td>[]</td>\n",
       "      <td>True</td>\n",
       "      <td>NaN</td>\n",
       "      <td>NaN</td>\n",
       "      <td>NaN</td>\n",
       "      <td>NaN</td>\n",
       "      <td>NaN</td>\n",
       "      <td>NaN</td>\n",
       "      <td>NaN</td>\n",
       "      <td>NaN</td>\n",
       "    </tr>\n",
       "  </tbody>\n",
       "</table>\n",
       "<p>3 rows × 85 columns</p>\n",
       "</div>"
      ],
      "text/plain": [
       "         id  premium relations                           name  \\\n",
       "0  79050720    False        []                     Переводчик   \n",
       "1  78996021    False        []        Исполнительный директор   \n",
       "2  75313444    False        []  Персональный Менеджер Премьер   \n",
       "\n",
       "  insider_interview  response_letter_required  salary  address  \\\n",
       "0              None                     False     NaN      NaN   \n",
       "1              None                     False     NaN      NaN   \n",
       "2              None                     False     NaN      NaN   \n",
       "\n",
       "   allow_messages contacts  ... address.metro_stations test.required  \\\n",
       "0            True     None  ...                    NaN           NaN   \n",
       "1           False     None  ...                    NaN           NaN   \n",
       "2           False     None  ...                     []          True   \n",
       "\n",
       "  address.metro.station_name address.metro.line_name  \\\n",
       "0                        NaN                     NaN   \n",
       "1                        NaN                     NaN   \n",
       "2                        NaN                     NaN   \n",
       "\n",
       "   address.metro.station_id  address.metro.line_id  address.metro.lat  \\\n",
       "0                       NaN                    NaN                NaN   \n",
       "1                       NaN                    NaN                NaN   \n",
       "2                       NaN                    NaN                NaN   \n",
       "\n",
       "  address.metro.lng department immediate_redirect_url  \n",
       "0               NaN        NaN                    NaN  \n",
       "1               NaN        NaN                    NaN  \n",
       "2               NaN        NaN                    NaN  \n",
       "\n",
       "[3 rows x 85 columns]"
      ]
     },
     "execution_count": 150,
     "metadata": {},
     "output_type": "execute_result"
    }
   ],
   "source": [
    "vacancy_df_test.head(3)"
   ]
  },
  {
   "cell_type": "markdown",
   "metadata": {},
   "source": [
    "# Решение на вакансиях в Москве"
   ]
  },
  {
   "cell_type": "code",
   "execution_count": 151,
   "metadata": {},
   "outputs": [
    {
     "data": {
      "text/plain": [
       "0        Деловая переписка,Английский язык,Грамотная речь\n",
       "1                                                        \n",
       "2                                                        \n",
       "3                                                        \n",
       "4                                                        \n",
       "                              ...                        \n",
       "1531    Проведение презентаций,Деловое общение,Прямые ...\n",
       "1532    Активные продажи,B2C продажи,Работа в команде,...\n",
       "1533      Деловое общение,Прямые продажи,Активные продажи\n",
       "1534    Проведение презентаций,Прямые продажи,Активные...\n",
       "1535    Проведение презентаций,Деловое общение,Прямые ...\n",
       "Name: key_skills, Length: 1536, dtype: object"
      ]
     },
     "execution_count": 151,
     "metadata": {},
     "output_type": "execute_result"
    }
   ],
   "source": [
    "vacancy_df_test['key_skills'].apply(lambda list_with_dicts: ','.join([x.get('name') for x in list_with_dicts]))"
   ]
  },
  {
   "cell_type": "code",
   "execution_count": 27,
   "metadata": {},
   "outputs": [],
   "source": [
    "#Создайте DataFrame в котором будут даты публикации вакансий, названия, описания, только добавьте поле ключевые навыки"
   ]
  },
  {
   "cell_type": "code",
   "execution_count": 152,
   "metadata": {},
   "outputs": [],
   "source": [
    "\n",
    "vac_desccription_test = vacancy_df_test[['id', 'published_at', 'name', 'description','key_skills']]\n",
    "\n"
   ]
  },
  {
   "cell_type": "code",
   "execution_count": 153,
   "metadata": {},
   "outputs": [
    {
     "data": {
      "text/html": [
       "<div>\n",
       "<style scoped>\n",
       "    .dataframe tbody tr th:only-of-type {\n",
       "        vertical-align: middle;\n",
       "    }\n",
       "\n",
       "    .dataframe tbody tr th {\n",
       "        vertical-align: top;\n",
       "    }\n",
       "\n",
       "    .dataframe thead th {\n",
       "        text-align: right;\n",
       "    }\n",
       "</style>\n",
       "<table border=\"1\" class=\"dataframe\">\n",
       "  <thead>\n",
       "    <tr style=\"text-align: right;\">\n",
       "      <th></th>\n",
       "      <th>id</th>\n",
       "      <th>published_at</th>\n",
       "      <th>name</th>\n",
       "      <th>description</th>\n",
       "      <th>key_skills</th>\n",
       "    </tr>\n",
       "  </thead>\n",
       "  <tbody>\n",
       "    <tr>\n",
       "      <th>0</th>\n",
       "      <td>79050720</td>\n",
       "      <td>2023-04-07T15:34:39+0300</td>\n",
       "      <td>Переводчик</td>\n",
       "      <td>&lt;p&gt;В отдел переводов ищем письменного переводч...</td>\n",
       "      <td>[{'name': 'Деловая переписка'}, {'name': 'Англ...</td>\n",
       "    </tr>\n",
       "    <tr>\n",
       "      <th>1</th>\n",
       "      <td>78996021</td>\n",
       "      <td>2023-04-06T13:40:19+0300</td>\n",
       "      <td>Исполнительный директор</td>\n",
       "      <td>&lt;p&gt;Команда управления по работе со специальным...</td>\n",
       "      <td>[]</td>\n",
       "    </tr>\n",
       "    <tr>\n",
       "      <th>2</th>\n",
       "      <td>75313444</td>\n",
       "      <td>2023-04-06T11:26:42+0300</td>\n",
       "      <td>Персональный Менеджер Премьер</td>\n",
       "      <td>&lt;p&gt;Сбер — лучший работодатель России. У нас 14...</td>\n",
       "      <td>[]</td>\n",
       "    </tr>\n",
       "  </tbody>\n",
       "</table>\n",
       "</div>"
      ],
      "text/plain": [
       "         id              published_at                           name  \\\n",
       "0  79050720  2023-04-07T15:34:39+0300                     Переводчик   \n",
       "1  78996021  2023-04-06T13:40:19+0300        Исполнительный директор   \n",
       "2  75313444  2023-04-06T11:26:42+0300  Персональный Менеджер Премьер   \n",
       "\n",
       "                                         description  \\\n",
       "0  <p>В отдел переводов ищем письменного переводч...   \n",
       "1  <p>Команда управления по работе со специальным...   \n",
       "2  <p>Сбер — лучший работодатель России. У нас 14...   \n",
       "\n",
       "                                          key_skills  \n",
       "0  [{'name': 'Деловая переписка'}, {'name': 'Англ...  \n",
       "1                                                 []  \n",
       "2                                                 []  "
      ]
     },
     "execution_count": 153,
     "metadata": {},
     "output_type": "execute_result"
    }
   ],
   "source": [
    "vac_desccription_test.head(3)"
   ]
  },
  {
   "cell_type": "code",
   "execution_count": 154,
   "metadata": {},
   "outputs": [
    {
     "name": "stdout",
     "output_type": "stream",
     "text": [
      "<class 'pandas.core.frame.DataFrame'>\n",
      "RangeIndex: 1536 entries, 0 to 1535\n",
      "Data columns (total 5 columns):\n",
      " #   Column        Non-Null Count  Dtype \n",
      "---  ------        --------------  ----- \n",
      " 0   id            1536 non-null   object\n",
      " 1   published_at  1536 non-null   object\n",
      " 2   name          1536 non-null   object\n",
      " 3   description   1536 non-null   object\n",
      " 4   key_skills    1536 non-null   object\n",
      "dtypes: object(5)\n",
      "memory usage: 60.1+ KB\n"
     ]
    }
   ],
   "source": [
    "vac_desccription_test.info()"
   ]
  },
  {
   "cell_type": "code",
   "execution_count": 31,
   "metadata": {},
   "outputs": [],
   "source": [
    "#Переведите даты публикаций в формат datetime и постройте график опубликованных вакансий по датам"
   ]
  },
  {
   "cell_type": "code",
   "execution_count": 155,
   "metadata": {},
   "outputs": [
    {
     "name": "stderr",
     "output_type": "stream",
     "text": [
      "C:\\Users\\anvne\\AppData\\Local\\Temp\\ipykernel_67344\\3370300031.py:1: SettingWithCopyWarning: \n",
      "A value is trying to be set on a copy of a slice from a DataFrame.\n",
      "Try using .loc[row_indexer,col_indexer] = value instead\n",
      "\n",
      "See the caveats in the documentation: https://pandas.pydata.org/pandas-docs/stable/user_guide/indexing.html#returning-a-view-versus-a-copy\n",
      "  vac_desccription_test['published_at'] = pd.to_datetime(vac_desccription_test['published_at'])\n"
     ]
    }
   ],
   "source": [
    "vac_desccription_test['published_at'] = pd.to_datetime(vac_desccription_test['published_at'])"
   ]
  },
  {
   "cell_type": "code",
   "execution_count": 156,
   "metadata": {},
   "outputs": [],
   "source": [
    "vac_daily_pub_test = vac_desccription_test.groupby (vac_desccription_test.published_at.dt.date )['id'].count()"
   ]
  },
  {
   "cell_type": "code",
   "execution_count": 188,
   "metadata": {},
   "outputs": [
    {
     "data": {
      "image/png": "[encoded data removed]",
      "text/plain": [
       "<Figure size 432x288 with 1 Axes>"
      ]
     },
     "metadata": {
      "needs_background": "light"
     },
     "output_type": "display_data"
    }
   ],
   "source": [
    "vac_daily_pub_test.plot(kind='bar')\n",
    "plt.grid(True)\n",
    "plt.show()"
   ]
  },
  {
   "cell_type": "code",
   "execution_count": 187,
   "metadata": {},
   "outputs": [
    {
     "data": {
      "image/png": "[encoded data removed]",
      "text/plain": [
       "<Figure size 432x288 with 1 Axes>"
      ]
     },
     "metadata": {
      "needs_background": "light"
     },
     "output_type": "display_data"
    }
   ],
   "source": [
    "plt.plot(vac_daily_pub_test)\n",
    "plt.xticks(rotation=45)\n",
    "plt.grid(True)\n",
    "plt.show()"
   ]
  },
  {
   "cell_type": "code",
   "execution_count": 36,
   "metadata": {},
   "outputs": [],
   "source": [
    "#Переведите даты в дни недели, и определите день недели, в который больше всего публикуют вакансий"
   ]
  },
  {
   "cell_type": "code",
   "execution_count": 159,
   "metadata": {
    "scrolled": true
   },
   "outputs": [
    {
     "name": "stderr",
     "output_type": "stream",
     "text": [
      "C:\\Users\\anvne\\AppData\\Local\\Temp\\ipykernel_67344\\2857570376.py:1: SettingWithCopyWarning: \n",
      "A value is trying to be set on a copy of a slice from a DataFrame.\n",
      "Try using .loc[row_indexer,col_indexer] = value instead\n",
      "\n",
      "See the caveats in the documentation: https://pandas.pydata.org/pandas-docs/stable/user_guide/indexing.html#returning-a-view-versus-a-copy\n",
      "  vac_desccription_test['day_of_week'] = vac_desccription_test['published_at'].dt.weekday\n"
     ]
    }
   ],
   "source": [
    "vac_desccription_test['day_of_week'] = vac_desccription_test['published_at'].dt.weekday"
   ]
  },
  {
   "cell_type": "code",
   "execution_count": 161,
   "metadata": {},
   "outputs": [],
   "source": [
    "vac_week_day_pub_test = vac_desccription_test.groupby (vac_desccription_test.published_at.dt.day_of_week)['id'].count()"
   ]
  },
  {
   "cell_type": "code",
   "execution_count": 189,
   "metadata": {},
   "outputs": [
    {
     "data": {
      "text/plain": [
       "published_at\n",
       "0    347\n",
       "1    302\n",
       "2    227\n",
       "3    290\n",
       "4    232\n",
       "5    132\n",
       "6      6\n",
       "Name: id, dtype: int64"
      ]
     },
     "execution_count": 189,
     "metadata": {},
     "output_type": "execute_result"
    }
   ],
   "source": [
    "vac_week_day_pub_test"
   ]
  },
  {
   "cell_type": "code",
   "execution_count": 195,
   "metadata": {},
   "outputs": [
    {
     "data": {
      "image/png": "[encoded data removed]",
      "text/plain": [
       "<Figure size 432x288 with 1 Axes>"
      ]
     },
     "metadata": {
      "needs_background": "light"
     },
     "output_type": "display_data"
    }
   ],
   "source": [
    "vac_week_day_pub_test.plot(kind='bar' )\n",
    "#fig,ax = plt.subplots()\n",
    "#plt.plot(dates, values)\n",
    "#values = range(7)\n",
    "#dates = [datetime.now()-timedelta(days=_) for _ in range(7)]\n",
    "#xlabels = [\"Пн\", \"Вт\", \"Ср\", \"Чт\", \"Пт\", \"Сб\", \"Вс\"]\n",
    "#ax.set_xticklabels(xlabels)\n",
    "plt.show()"
   ]
  },
  {
   "cell_type": "code",
   "execution_count": 164,
   "metadata": {},
   "outputs": [],
   "source": [
    "#Найдите вакансии с использованием Python, которые вам интересны"
   ]
  },
  {
   "cell_type": "code",
   "execution_count": 174,
   "metadata": {},
   "outputs": [
    {
     "data": {
      "text/html": [
       "<div>\n",
       "<style scoped>\n",
       "    .dataframe tbody tr th:only-of-type {\n",
       "        vertical-align: middle;\n",
       "    }\n",
       "\n",
       "    .dataframe tbody tr th {\n",
       "        vertical-align: top;\n",
       "    }\n",
       "\n",
       "    .dataframe thead th {\n",
       "        text-align: right;\n",
       "    }\n",
       "</style>\n",
       "<table border=\"1\" class=\"dataframe\">\n",
       "  <thead>\n",
       "    <tr style=\"text-align: right;\">\n",
       "      <th></th>\n",
       "      <th>id</th>\n",
       "      <th>published_at</th>\n",
       "      <th>name</th>\n",
       "      <th>description</th>\n",
       "      <th>key_skills</th>\n",
       "      <th>day_of_week</th>\n",
       "    </tr>\n",
       "  </thead>\n",
       "  <tbody>\n",
       "    <tr>\n",
       "      <th>39</th>\n",
       "      <td>78887375</td>\n",
       "      <td>2023-04-04 12:23:58+03:00</td>\n",
       "      <td>Python разработчик (backend)</td>\n",
       "      <td>&lt;p&gt;Мы занимаемся разработкой систем, обеспечив...</td>\n",
       "      <td>[]</td>\n",
       "      <td>1</td>\n",
       "    </tr>\n",
       "    <tr>\n",
       "      <th>97</th>\n",
       "      <td>78838620</td>\n",
       "      <td>2023-04-03 13:59:22+03:00</td>\n",
       "      <td>Python-разработчик</td>\n",
       "      <td>&lt;p&gt;В SberData мы создаем централизованное хран...</td>\n",
       "      <td>[]</td>\n",
       "      <td>0</td>\n",
       "    </tr>\n",
       "    <tr>\n",
       "      <th>146</th>\n",
       "      <td>78717347</td>\n",
       "      <td>2023-03-30 11:38:32+03:00</td>\n",
       "      <td>Стажер (разработчик Python)</td>\n",
       "      <td>&lt;p&gt;Внедрение новых и сопровождение (доработка/...</td>\n",
       "      <td>[]</td>\n",
       "      <td>3</td>\n",
       "    </tr>\n",
       "    <tr>\n",
       "      <th>198</th>\n",
       "      <td>78767376</td>\n",
       "      <td>2023-03-31 13:08:18+03:00</td>\n",
       "      <td>Python developer</td>\n",
       "      <td>&lt;p&gt;Наш продукт: overload система для проведени...</td>\n",
       "      <td>[]</td>\n",
       "      <td>4</td>\n",
       "    </tr>\n",
       "    <tr>\n",
       "      <th>203</th>\n",
       "      <td>78750849</td>\n",
       "      <td>2023-03-31 08:55:32+03:00</td>\n",
       "      <td>Python Developer</td>\n",
       "      <td>&lt;p&gt;&lt;strong&gt;Кто мы?&lt;/strong&gt;&lt;/p&gt; &lt;p&gt;Наша междис...</td>\n",
       "      <td>[{'name': 'Python'}, {'name': 'Linux'}, {'name...</td>\n",
       "      <td>4</td>\n",
       "    </tr>\n",
       "    <tr>\n",
       "      <th>236</th>\n",
       "      <td>75700571</td>\n",
       "      <td>2023-04-03 08:57:30+03:00</td>\n",
       "      <td>Python-разработчик</td>\n",
       "      <td>&lt;p&gt;В SberData мы создаем централизованное хран...</td>\n",
       "      <td>[]</td>\n",
       "      <td>0</td>\n",
       "    </tr>\n",
       "    <tr>\n",
       "      <th>246</th>\n",
       "      <td>76048443</td>\n",
       "      <td>2023-03-16 11:01:27+03:00</td>\n",
       "      <td>Middle/Senior Python-разработчик в Цифровые по...</td>\n",
       "      <td>&lt;p&gt;SberDevices — уникальное IT-пространство вн...</td>\n",
       "      <td>[]</td>\n",
       "      <td>3</td>\n",
       "    </tr>\n",
       "    <tr>\n",
       "      <th>275</th>\n",
       "      <td>76971042</td>\n",
       "      <td>2023-03-23 13:25:28+03:00</td>\n",
       "      <td>Python-разработчик</td>\n",
       "      <td>&lt;p&gt;SDN - это то, без чего не может существоват...</td>\n",
       "      <td>[{'name': 'Git'}, {'name': 'PostgreSQL'}, {'na...</td>\n",
       "      <td>3</td>\n",
       "    </tr>\n",
       "    <tr>\n",
       "      <th>318</th>\n",
       "      <td>78275267</td>\n",
       "      <td>2023-04-03 11:02:15+03:00</td>\n",
       "      <td>Python разработчик (Биометрия)</td>\n",
       "      <td>&lt;p&gt;Мы – сплоченная команда единомышленников, к...</td>\n",
       "      <td>[{'name': 'Python'}, {'name': 'Git'}, {'name':...</td>\n",
       "      <td>0</td>\n",
       "    </tr>\n",
       "    <tr>\n",
       "      <th>332</th>\n",
       "      <td>78884772</td>\n",
       "      <td>2023-04-04 11:50:29+03:00</td>\n",
       "      <td>Python Developer в омниканальные контактные це...</td>\n",
       "      <td>&lt;p&gt;Наша команда разрабатывает современную комм...</td>\n",
       "      <td>[]</td>\n",
       "      <td>1</td>\n",
       "    </tr>\n",
       "    <tr>\n",
       "      <th>360</th>\n",
       "      <td>77559064</td>\n",
       "      <td>2023-03-31 16:57:58+03:00</td>\n",
       "      <td>Python разработчик</td>\n",
       "      <td>&lt;p&gt;В SberData мы создаем централизованное хран...</td>\n",
       "      <td>[]</td>\n",
       "      <td>4</td>\n",
       "    </tr>\n",
       "    <tr>\n",
       "      <th>415</th>\n",
       "      <td>78091052</td>\n",
       "      <td>2023-03-15 14:20:35+03:00</td>\n",
       "      <td>Python-разработчик</td>\n",
       "      <td>&lt;p&gt;&lt;em&gt;Платформа «Релизный портал» это внутрен...</td>\n",
       "      <td>[]</td>\n",
       "      <td>2</td>\n",
       "    </tr>\n",
       "    <tr>\n",
       "      <th>472</th>\n",
       "      <td>75888105</td>\n",
       "      <td>2023-04-06 13:56:01+03:00</td>\n",
       "      <td>Python-разработчик в Цифровые поверхности Салю...</td>\n",
       "      <td>&lt;p&gt;SberDevices — уникальное IT-пространство вн...</td>\n",
       "      <td>[]</td>\n",
       "      <td>3</td>\n",
       "    </tr>\n",
       "    <tr>\n",
       "      <th>509</th>\n",
       "      <td>77016351</td>\n",
       "      <td>2023-03-16 11:01:33+03:00</td>\n",
       "      <td>Senior Python-разработчик в Цифровые поверхнос...</td>\n",
       "      <td>&lt;p&gt;Цифровые поверхности Салют (SberDevices) — ...</td>\n",
       "      <td>[{'name': 'Python'}, {'name': 'API'}, {'name':...</td>\n",
       "      <td>3</td>\n",
       "    </tr>\n",
       "    <tr>\n",
       "      <th>556</th>\n",
       "      <td>78981835</td>\n",
       "      <td>2023-04-06 10:47:31+03:00</td>\n",
       "      <td>Middle/Senior Python Developer</td>\n",
       "      <td>&lt;p&gt;&lt;strong&gt;Почему мы:&lt;/strong&gt;&lt;/p&gt; &lt;p&gt;Мы разра...</td>\n",
       "      <td>[{'name': 'Python'}, {'name': 'SQL'}, {'name':...</td>\n",
       "      <td>3</td>\n",
       "    </tr>\n",
       "    <tr>\n",
       "      <th>564</th>\n",
       "      <td>76294359</td>\n",
       "      <td>2023-03-23 19:43:26+03:00</td>\n",
       "      <td>Python разработчик (SmartVoice)</td>\n",
       "      <td>&lt;p&gt;Мы - команда «SmartVoice».&lt;/p&gt; &lt;p&gt;Мы занима...</td>\n",
       "      <td>[{'name': 'Linux'}, {'name': 'Python'}, {'name...</td>\n",
       "      <td>3</td>\n",
       "    </tr>\n",
       "    <tr>\n",
       "      <th>577</th>\n",
       "      <td>77016383</td>\n",
       "      <td>2023-03-16 11:01:38+03:00</td>\n",
       "      <td>Senior Python разработчик (Intelligent Documen...</td>\n",
       "      <td>&lt;p&gt;Привет! Мы разрабатываем продукты для решен...</td>\n",
       "      <td>[{'name': 'Python'}, {'name': 'Django Framewor...</td>\n",
       "      <td>3</td>\n",
       "    </tr>\n",
       "    <tr>\n",
       "      <th>596</th>\n",
       "      <td>79009024</td>\n",
       "      <td>2023-04-06 17:00:03+03:00</td>\n",
       "      <td>Middle/Senior Python разработчик в SberDevices</td>\n",
       "      <td>&lt;p&gt;SberDevices — уникальная IT компания, заним...</td>\n",
       "      <td>[]</td>\n",
       "      <td>3</td>\n",
       "    </tr>\n",
       "    <tr>\n",
       "      <th>681</th>\n",
       "      <td>78587555</td>\n",
       "      <td>2023-03-27 16:48:45+03:00</td>\n",
       "      <td>Python-разработчик</td>\n",
       "      <td>&lt;p&gt;Мы кросс-функциональная команда, которая са...</td>\n",
       "      <td>[]</td>\n",
       "      <td>0</td>\n",
       "    </tr>\n",
       "    <tr>\n",
       "      <th>794</th>\n",
       "      <td>76797183</td>\n",
       "      <td>2023-04-03 12:18:05+03:00</td>\n",
       "      <td>Senior Python developer</td>\n",
       "      <td>&lt;p&gt;&lt;strong&gt;Проект:&lt;/strong&gt;&lt;/p&gt; &lt;p&gt;SDN - это т...</td>\n",
       "      <td>[{'name': 'Git'}, {'name': 'PostgreSQL'}, {'na...</td>\n",
       "      <td>0</td>\n",
       "    </tr>\n",
       "    <tr>\n",
       "      <th>859</th>\n",
       "      <td>78365947</td>\n",
       "      <td>2023-03-21 15:29:47+03:00</td>\n",
       "      <td>TechLead Python</td>\n",
       "      <td>&lt;p&gt;Мы разрабатываем и поддерживаем современную...</td>\n",
       "      <td>[]</td>\n",
       "      <td>1</td>\n",
       "    </tr>\n",
       "    <tr>\n",
       "      <th>874</th>\n",
       "      <td>78152661</td>\n",
       "      <td>2023-03-16 17:37:00+03:00</td>\n",
       "      <td>Главный Python разработчик</td>\n",
       "      <td>&lt;p&gt;В SberData мы создаем централизованное хран...</td>\n",
       "      <td>[]</td>\n",
       "      <td>3</td>\n",
       "    </tr>\n",
       "    <tr>\n",
       "      <th>977</th>\n",
       "      <td>75887253</td>\n",
       "      <td>2023-04-06 13:56:05+03:00</td>\n",
       "      <td>Senior Python Engineer в инфраструктуру поиска</td>\n",
       "      <td>Команда Intelligent Search создаёт поисковый с...</td>\n",
       "      <td>[]</td>\n",
       "      <td>3</td>\n",
       "    </tr>\n",
       "    <tr>\n",
       "      <th>1093</th>\n",
       "      <td>78196594</td>\n",
       "      <td>2023-03-17 17:17:31+03:00</td>\n",
       "      <td>Разработчик Python в сервис CloudQuota (middle...</td>\n",
       "      <td>&lt;p&gt;Облачная платформа SberInfra.Cloud является...</td>\n",
       "      <td>[{'name': 'Python'}, {'name': 'Golang'}, {'nam...</td>\n",
       "      <td>4</td>\n",
       "    </tr>\n",
       "    <tr>\n",
       "      <th>1192</th>\n",
       "      <td>78374313</td>\n",
       "      <td>2023-03-21 18:05:42+03:00</td>\n",
       "      <td>TechLead Python</td>\n",
       "      <td>&lt;p&gt;Мы разрабатываем и поддерживаем современную...</td>\n",
       "      <td>[]</td>\n",
       "      <td>1</td>\n",
       "    </tr>\n",
       "    <tr>\n",
       "      <th>1212</th>\n",
       "      <td>78132241</td>\n",
       "      <td>2023-03-16 12:20:03+03:00</td>\n",
       "      <td>Senior Python разработчик (Intelligent Documen...</td>\n",
       "      <td>&lt;p&gt;Привет! Мы разрабатываем продукты для решен...</td>\n",
       "      <td>[{'name': 'Python'}, {'name': 'Django Framewor...</td>\n",
       "      <td>3</td>\n",
       "    </tr>\n",
       "    <tr>\n",
       "      <th>1225</th>\n",
       "      <td>78981812</td>\n",
       "      <td>2023-04-06 10:47:13+03:00</td>\n",
       "      <td>Middle/Senior Python Developer</td>\n",
       "      <td>&lt;p&gt;&lt;strong&gt;Почему мы:&lt;/strong&gt;&lt;/p&gt; &lt;p&gt;Мы разра...</td>\n",
       "      <td>[]</td>\n",
       "      <td>3</td>\n",
       "    </tr>\n",
       "    <tr>\n",
       "      <th>1286</th>\n",
       "      <td>77659968</td>\n",
       "      <td>2023-03-29 09:16:32+03:00</td>\n",
       "      <td>Tech Lead Python</td>\n",
       "      <td>&lt;p&gt;Облачная платформа SberInfra.Cloud является...</td>\n",
       "      <td>[]</td>\n",
       "      <td>2</td>\n",
       "    </tr>\n",
       "    <tr>\n",
       "      <th>1291</th>\n",
       "      <td>78759114</td>\n",
       "      <td>2023-03-31 11:14:56+03:00</td>\n",
       "      <td>Python Senior Developer (SberData)</td>\n",
       "      <td>&lt;p&gt;В SberData мы создаем централизованное хран...</td>\n",
       "      <td>[{'name': 'Docker'}, {'name': 'Работа с базами...</td>\n",
       "      <td>4</td>\n",
       "    </tr>\n",
       "    <tr>\n",
       "      <th>1298</th>\n",
       "      <td>77445054</td>\n",
       "      <td>2023-03-28 14:47:25+03:00</td>\n",
       "      <td>Senior Python Developer</td>\n",
       "      <td>&lt;p&gt;Мы создаем платформу процессной аналитики –...</td>\n",
       "      <td>[]</td>\n",
       "      <td>1</td>\n",
       "    </tr>\n",
       "    <tr>\n",
       "      <th>1299</th>\n",
       "      <td>73328848</td>\n",
       "      <td>2023-04-03 11:47:37+03:00</td>\n",
       "      <td>Middle | Senior Python разработчик</td>\n",
       "      <td>&lt;p&gt;&lt;strong&gt;Что такое &lt;/strong&gt;&lt;strong&gt;Sber&lt;/st...</td>\n",
       "      <td>[{'name': 'Linux'}, {'name': 'Python'}, {'name...</td>\n",
       "      <td>0</td>\n",
       "    </tr>\n",
       "    <tr>\n",
       "      <th>1330</th>\n",
       "      <td>78830377</td>\n",
       "      <td>2023-04-03 12:18:40+03:00</td>\n",
       "      <td>Python Team lead (CloudHalo)</td>\n",
       "      <td>&lt;p&gt;&lt;strong&gt;Проект: &lt;/strong&gt;&lt;/p&gt; &lt;p&gt;Облачная п...</td>\n",
       "      <td>[{'name': 'SQL'}, {'name': 'Docker'}, {'name':...</td>\n",
       "      <td>0</td>\n",
       "    </tr>\n",
       "    <tr>\n",
       "      <th>1335</th>\n",
       "      <td>78723296</td>\n",
       "      <td>2023-03-30 12:50:40+03:00</td>\n",
       "      <td>Tech Lead Python в сервис CloudQuota</td>\n",
       "      <td>&lt;p&gt;Облачная платформа SberInfra.Cloud является...</td>\n",
       "      <td>[{'name': 'Python'}]</td>\n",
       "      <td>3</td>\n",
       "    </tr>\n",
       "    <tr>\n",
       "      <th>1371</th>\n",
       "      <td>76961537</td>\n",
       "      <td>2023-03-17 11:29:01+03:00</td>\n",
       "      <td>Senior Python-разработчик в Цифровые поверхнос...</td>\n",
       "      <td>&lt;p&gt;Layer - технологии компьютерного зрения, вы...</td>\n",
       "      <td>[{'name': 'Python'}, {'name': 'SQL'}, {'name':...</td>\n",
       "      <td>4</td>\n",
       "    </tr>\n",
       "    <tr>\n",
       "      <th>1402</th>\n",
       "      <td>75525321</td>\n",
       "      <td>2023-04-03 11:01:55+03:00</td>\n",
       "      <td>Team Lead Python разработчик (Биометрия)</td>\n",
       "      <td>&lt;p&gt;Мы – сплоченная команда единомышленников, к...</td>\n",
       "      <td>[{'name': 'Python'}, {'name': 'Git'}, {'name':...</td>\n",
       "      <td>0</td>\n",
       "    </tr>\n",
       "    <tr>\n",
       "      <th>1437</th>\n",
       "      <td>78763912</td>\n",
       "      <td>2023-04-03 14:46:16+03:00</td>\n",
       "      <td>Senior QA Automation (Python)</td>\n",
       "      <td>&lt;p&gt;· Мы – динамичная команда молодых, позитивн...</td>\n",
       "      <td>[]</td>\n",
       "      <td>0</td>\n",
       "    </tr>\n",
       "  </tbody>\n",
       "</table>\n",
       "</div>"
      ],
      "text/plain": [
       "            id              published_at  \\\n",
       "39    78887375 2023-04-04 12:23:58+03:00   \n",
       "97    78838620 2023-04-03 13:59:22+03:00   \n",
       "146   78717347 2023-03-30 11:38:32+03:00   \n",
       "198   78767376 2023-03-31 13:08:18+03:00   \n",
       "203   78750849 2023-03-31 08:55:32+03:00   \n",
       "236   75700571 2023-04-03 08:57:30+03:00   \n",
       "246   76048443 2023-03-16 11:01:27+03:00   \n",
       "275   76971042 2023-03-23 13:25:28+03:00   \n",
       "318   78275267 2023-04-03 11:02:15+03:00   \n",
       "332   78884772 2023-04-04 11:50:29+03:00   \n",
       "360   77559064 2023-03-31 16:57:58+03:00   \n",
       "415   78091052 2023-03-15 14:20:35+03:00   \n",
       "472   75888105 2023-04-06 13:56:01+03:00   \n",
       "509   77016351 2023-03-16 11:01:33+03:00   \n",
       "556   78981835 2023-04-06 10:47:31+03:00   \n",
       "564   76294359 2023-03-23 19:43:26+03:00   \n",
       "577   77016383 2023-03-16 11:01:38+03:00   \n",
       "596   79009024 2023-04-06 17:00:03+03:00   \n",
       "681   78587555 2023-03-27 16:48:45+03:00   \n",
       "794   76797183 2023-04-03 12:18:05+03:00   \n",
       "859   78365947 2023-03-21 15:29:47+03:00   \n",
       "874   78152661 2023-03-16 17:37:00+03:00   \n",
       "977   75887253 2023-04-06 13:56:05+03:00   \n",
       "1093  78196594 2023-03-17 17:17:31+03:00   \n",
       "1192  78374313 2023-03-21 18:05:42+03:00   \n",
       "1212  78132241 2023-03-16 12:20:03+03:00   \n",
       "1225  78981812 2023-04-06 10:47:13+03:00   \n",
       "1286  77659968 2023-03-29 09:16:32+03:00   \n",
       "1291  78759114 2023-03-31 11:14:56+03:00   \n",
       "1298  77445054 2023-03-28 14:47:25+03:00   \n",
       "1299  73328848 2023-04-03 11:47:37+03:00   \n",
       "1330  78830377 2023-04-03 12:18:40+03:00   \n",
       "1335  78723296 2023-03-30 12:50:40+03:00   \n",
       "1371  76961537 2023-03-17 11:29:01+03:00   \n",
       "1402  75525321 2023-04-03 11:01:55+03:00   \n",
       "1437  78763912 2023-04-03 14:46:16+03:00   \n",
       "\n",
       "                                                   name  \\\n",
       "39                         Python разработчик (backend)   \n",
       "97                                   Python-разработчик   \n",
       "146                         Стажер (разработчик Python)   \n",
       "198                                    Python developer   \n",
       "203                                    Python Developer   \n",
       "236                                  Python-разработчик   \n",
       "246   Middle/Senior Python-разработчик в Цифровые по...   \n",
       "275                                  Python-разработчик   \n",
       "318                      Python разработчик (Биометрия)   \n",
       "332   Python Developer в омниканальные контактные це...   \n",
       "360                                  Python разработчик   \n",
       "415                                  Python-разработчик   \n",
       "472   Python-разработчик в Цифровые поверхности Салю...   \n",
       "509   Senior Python-разработчик в Цифровые поверхнос...   \n",
       "556                      Middle/Senior Python Developer   \n",
       "564                     Python разработчик (SmartVoice)   \n",
       "577   Senior Python разработчик (Intelligent Documen...   \n",
       "596      Middle/Senior Python разработчик в SberDevices   \n",
       "681                                  Python-разработчик   \n",
       "794                             Senior Python developer   \n",
       "859                                     TechLead Python   \n",
       "874                          Главный Python разработчик   \n",
       "977      Senior Python Engineer в инфраструктуру поиска   \n",
       "1093  Разработчик Python в сервис CloudQuota (middle...   \n",
       "1192                                    TechLead Python   \n",
       "1212  Senior Python разработчик (Intelligent Documen...   \n",
       "1225                     Middle/Senior Python Developer   \n",
       "1286                                   Tech Lead Python   \n",
       "1291                 Python Senior Developer (SberData)   \n",
       "1298                            Senior Python Developer   \n",
       "1299                 Middle | Senior Python разработчик   \n",
       "1330                       Python Team lead (CloudHalo)   \n",
       "1335               Tech Lead Python в сервис CloudQuota   \n",
       "1371  Senior Python-разработчик в Цифровые поверхнос...   \n",
       "1402           Team Lead Python разработчик (Биометрия)   \n",
       "1437                      Senior QA Automation (Python)   \n",
       "\n",
       "                                            description  \\\n",
       "39    <p>Мы занимаемся разработкой систем, обеспечив...   \n",
       "97    <p>В SberData мы создаем централизованное хран...   \n",
       "146   <p>Внедрение новых и сопровождение (доработка/...   \n",
       "198   <p>Наш продукт: overload система для проведени...   \n",
       "203   <p><strong>Кто мы?</strong></p> <p>Наша междис...   \n",
       "236   <p>В SberData мы создаем централизованное хран...   \n",
       "246   <p>SberDevices — уникальное IT-пространство вн...   \n",
       "275   <p>SDN - это то, без чего не может существоват...   \n",
       "318   <p>Мы – сплоченная команда единомышленников, к...   \n",
       "332   <p>Наша команда разрабатывает современную комм...   \n",
       "360   <p>В SberData мы создаем централизованное хран...   \n",
       "415   <p><em>Платформа «Релизный портал» это внутрен...   \n",
       "472   <p>SberDevices — уникальное IT-пространство вн...   \n",
       "509   <p>Цифровые поверхности Салют (SberDevices) — ...   \n",
       "556   <p><strong>Почему мы:</strong></p> <p>Мы разра...   \n",
       "564   <p>Мы - команда «SmartVoice».</p> <p>Мы занима...   \n",
       "577   <p>Привет! Мы разрабатываем продукты для решен...   \n",
       "596   <p>SberDevices — уникальная IT компания, заним...   \n",
       "681   <p>Мы кросс-функциональная команда, которая са...   \n",
       "794   <p><strong>Проект:</strong></p> <p>SDN - это т...   \n",
       "859   <p>Мы разрабатываем и поддерживаем современную...   \n",
       "874   <p>В SberData мы создаем централизованное хран...   \n",
       "977   Команда Intelligent Search создаёт поисковый с...   \n",
       "1093  <p>Облачная платформа SberInfra.Cloud является...   \n",
       "1192  <p>Мы разрабатываем и поддерживаем современную...   \n",
       "1212  <p>Привет! Мы разрабатываем продукты для решен...   \n",
       "1225  <p><strong>Почему мы:</strong></p> <p>Мы разра...   \n",
       "1286  <p>Облачная платформа SberInfra.Cloud является...   \n",
       "1291  <p>В SberData мы создаем централизованное хран...   \n",
       "1298  <p>Мы создаем платформу процессной аналитики –...   \n",
       "1299  <p><strong>Что такое </strong><strong>Sber</st...   \n",
       "1330  <p><strong>Проект: </strong></p> <p>Облачная п...   \n",
       "1335  <p>Облачная платформа SberInfra.Cloud является...   \n",
       "1371  <p>Layer - технологии компьютерного зрения, вы...   \n",
       "1402  <p>Мы – сплоченная команда единомышленников, к...   \n",
       "1437  <p>· Мы – динамичная команда молодых, позитивн...   \n",
       "\n",
       "                                             key_skills  day_of_week  \n",
       "39                                                   []            1  \n",
       "97                                                   []            0  \n",
       "146                                                  []            3  \n",
       "198                                                  []            4  \n",
       "203   [{'name': 'Python'}, {'name': 'Linux'}, {'name...            4  \n",
       "236                                                  []            0  \n",
       "246                                                  []            3  \n",
       "275   [{'name': 'Git'}, {'name': 'PostgreSQL'}, {'na...            3  \n",
       "318   [{'name': 'Python'}, {'name': 'Git'}, {'name':...            0  \n",
       "332                                                  []            1  \n",
       "360                                                  []            4  \n",
       "415                                                  []            2  \n",
       "472                                                  []            3  \n",
       "509   [{'name': 'Python'}, {'name': 'API'}, {'name':...            3  \n",
       "556   [{'name': 'Python'}, {'name': 'SQL'}, {'name':...            3  \n",
       "564   [{'name': 'Linux'}, {'name': 'Python'}, {'name...            3  \n",
       "577   [{'name': 'Python'}, {'name': 'Django Framewor...            3  \n",
       "596                                                  []            3  \n",
       "681                                                  []            0  \n",
       "794   [{'name': 'Git'}, {'name': 'PostgreSQL'}, {'na...            0  \n",
       "859                                                  []            1  \n",
       "874                                                  []            3  \n",
       "977                                                  []            3  \n",
       "1093  [{'name': 'Python'}, {'name': 'Golang'}, {'nam...            4  \n",
       "1192                                                 []            1  \n",
       "1212  [{'name': 'Python'}, {'name': 'Django Framewor...            3  \n",
       "1225                                                 []            3  \n",
       "1286                                                 []            2  \n",
       "1291  [{'name': 'Docker'}, {'name': 'Работа с базами...            4  \n",
       "1298                                                 []            1  \n",
       "1299  [{'name': 'Linux'}, {'name': 'Python'}, {'name...            0  \n",
       "1330  [{'name': 'SQL'}, {'name': 'Docker'}, {'name':...            0  \n",
       "1335                               [{'name': 'Python'}]            3  \n",
       "1371  [{'name': 'Python'}, {'name': 'SQL'}, {'name':...            4  \n",
       "1402  [{'name': 'Python'}, {'name': 'Git'}, {'name':...            0  \n",
       "1437                                                 []            0  "
      ]
     },
     "execution_count": 174,
     "metadata": {},
     "output_type": "execute_result"
    }
   ],
   "source": [
    "mask_name = vac_desccription_test['name'].str.contains(\"Python\")\n",
    "vac_desccription_test.loc[mask_name]"
   ]
  },
  {
   "cell_type": "code",
   "execution_count": 166,
   "metadata": {},
   "outputs": [],
   "source": [
    "#Определите по полю с ключевыми навыками, какие навыки больше всего востребованы для найденных вакансий\n"
   ]
  },
  {
   "cell_type": "code",
   "execution_count": 167,
   "metadata": {},
   "outputs": [],
   "source": [
    "vacancy_df_test['key_skills_list'] = vacancy_df_test['key_skills'].apply(lambda list_with_dicts: ', '.join([x.get('name') for x in list_with_dicts]))"
   ]
  },
  {
   "cell_type": "code",
   "execution_count": 196,
   "metadata": {},
   "outputs": [],
   "source": [
    "key_skills_list = vacancy_df_test['key_skills_list'].tolist()"
   ]
  },
  {
   "cell_type": "code",
   "execution_count": 185,
   "metadata": {},
   "outputs": [
    {
     "data": {
      "text/plain": [
       "sql                 132\n",
       "python               97\n",
       "активные продажи     96\n",
       "git                  88\n",
       "java                 81\n",
       "                   ... \n",
       "azure                 1\n",
       "1с: предприятие       1\n",
       "1с: бухгалтерия       1\n",
       "docker-compose        1\n",
       "сбер                  1\n",
       "Name: skills, Length: 478, dtype: int64"
      ]
     },
     "execution_count": 185,
     "metadata": {},
     "output_type": "execute_result"
    }
   ],
   "source": [
    "key_skills_list_all = ','.join(key_skills_list).split(',')\n",
    "key_skills_list_all_df = pd.DataFrame(key_skills_list_all, columns = ['skills'])\n",
    "key_skills_list_all_df['skills'] = key_skills_list_all_df['skills'].apply(lambda x: x.strip().lower())\n",
    "key_skills_list_all_df[key_skills_list_all_df['skills'] != '']['skills'].value_counts()"
   ]
  },
  {
   "cell_type": "code",
   "execution_count": null,
   "metadata": {},
   "outputs": [],
   "source": [
    "#Постройте график наиболее востребованных навыков"
   ]
  },
  {
   "cell_type": "code",
   "execution_count": 186,
   "metadata": {},
   "outputs": [
    {
     "data": {
      "image/png": "[encoded data removed]",
      "text/plain": [
       "<Figure size 432x288 with 1 Axes>"
      ]
     },
     "metadata": {
      "needs_background": "light"
     },
     "output_type": "display_data"
    }
   ],
   "source": [
    "key_skills_list_all_df[key_skills_list_all_df['skills'] != '']['skills'].value_counts().loc[lambda x : x > 30].plot(kind='barh')\n",
    "plt.show()"
   ]
  },
  {
   "cell_type": "code",
   "execution_count": null,
   "metadata": {},
   "outputs": [],
   "source": []
  },
  {
   "cell_type": "code",
   "execution_count": null,
   "metadata": {},
   "outputs": [],
   "source": []
  },
  {
   "cell_type": "code",
   "execution_count": null,
   "metadata": {},
   "outputs": [],
   "source": []
  },
  {
   "cell_type": "code",
   "execution_count": null,
   "metadata": {},
   "outputs": [],
   "source": []
  },
  {
   "cell_type": "code",
   "execution_count": null,
   "metadata": {},
   "outputs": [],
   "source": []
  },
  {
   "cell_type": "markdown",
   "metadata": {},
   "source": [
    "# Решение на большой выгрузке"
   ]
  },
  {
   "cell_type": "code",
   "execution_count": null,
   "metadata": {},
   "outputs": [],
   "source": [
    "vac_dict = []\n",
    "for vac_id in tqdm(all_vacancy_ids):\n",
    "    url = f'https://api.hh.ru/vacancies/{vac_id}'\n",
    "    res = requests.get(url)\n",
    "    vac_dict.append(res.json())"
   ]
  },
  {
   "cell_type": "code",
   "execution_count": null,
   "metadata": {},
   "outputs": [],
   "source": [
    "#vac_dict"
   ]
  },
  {
   "cell_type": "code",
   "execution_count": null,
   "metadata": {},
   "outputs": [],
   "source": [
    "#vacancy_df = pd.json_normalize(vac_dict) "
   ]
  },
  {
   "cell_type": "code",
   "execution_count": null,
   "metadata": {},
   "outputs": [],
   "source": [
    "#vacancy_df['key_skills'].dropna()"
   ]
  },
  {
   "cell_type": "code",
   "execution_count": null,
   "metadata": {},
   "outputs": [],
   "source": [
    "#vacancy_df['key_skills'].apply(lambda list_with_dicts:','.join([x.get('name') for x in list_with_dicts]))"
   ]
  },
  {
   "cell_type": "code",
   "execution_count": null,
   "metadata": {},
   "outputs": [],
   "source": [
    "#vacancy_df"
   ]
  },
  {
   "cell_type": "code",
   "execution_count": 265,
   "metadata": {},
   "outputs": [],
   "source": [
    "#vacancy_df['key_skills'].apply(lambda list_with_dict:','.join([x.get('name') for x in list_with_dict]))"
   ]
  },
  {
   "cell_type": "code",
   "execution_count": null,
   "metadata": {},
   "outputs": [],
   "source": []
  },
  {
   "cell_type": "code",
   "execution_count": null,
   "metadata": {},
   "outputs": [],
   "source": []
  },
  {
   "cell_type": "code",
   "execution_count": null,
   "metadata": {},
   "outputs": [],
   "source": []
  },
  {
   "cell_type": "code",
   "execution_count": null,
   "metadata": {},
   "outputs": [],
   "source": []
  }
 ],
 "metadata": {
  "kernelspec": {
   "display_name": "Python 3 (ipykernel)",
   "language": "python",
   "name": "python3"
  },
  "language_info": {
   "codemirror_mode": {
    "name": "ipython",
    "version": 3
   },
   "file_extension": ".py",
   "mimetype": "text/x-python",
   "name": "python",
   "nbconvert_exporter": "python",
   "pygments_lexer": "ipython3",
   "version": "3.9.12"
  }
 },
 "nbformat": 4,
 "nbformat_minor": 4
}
